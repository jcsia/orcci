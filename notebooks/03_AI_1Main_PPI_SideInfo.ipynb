{
 "cells": [
  {
   "cell_type": "code",
   "execution_count": 1,
   "metadata": {
    "pycharm": {
     "name": "#%%\n"
    }
   },
   "outputs": [
    {
     "data": {
      "text/html": "\n\t\t\t<script type=\"text/javascript\">\n\t\t\t<!--\n\t\t\t\t\n\t\t\t{\n\t\t\t\tvar element = document.getElementById('NetworKit_script');\n\t\t\t\tif (element) {\n\t\t\t\t\telement.parentNode.removeChild(element);\n\t\t\t\t}\n\t\t\t\telement = document.createElement('script');\n\t\t\t\telement.type = 'text/javascript';\n\t\t\t\telement.innerHTML = 'function NetworKit_pageEmbed(id) { var i, j; var elements; elements = document.getElementById(id).getElementsByClassName(\"Plot\"); for (i=0; i<elements.length; i++) { elements[i].id = id + \"_Plot_\" + i; var data = elements[i].getAttribute(\"data-image\").split(\"|\"); elements[i].removeAttribute(\"data-image\"); var content = \"<div class=\\\\\"Image\\\\\" id=\\\\\"\" + elements[i].id + \"_Image\\\\\" />\"; elements[i].innerHTML = content; elements[i].setAttribute(\"data-image-index\", 0); elements[i].setAttribute(\"data-image-length\", data.length); for (j=0; j<data.length; j++) { elements[i].setAttribute(\"data-image-\" + j, data[j]); } NetworKit_plotUpdate(elements[i]); elements[i].onclick = function (e) { NetworKit_overlayShow((e.target) ? e.target : e.srcElement); } } elements = document.getElementById(id).getElementsByClassName(\"HeatCell\"); for (i=0; i<elements.length; i++) { var data = parseFloat(elements[i].getAttribute(\"data-heat\")); var color = \"#00FF00\"; if (data <= 1 && data > 0) { color = \"hsla(0, 100%, 75%, \" + (data) + \")\"; } else if (data <= 0 && data >= -1) { color = \"hsla(240, 100%, 75%, \" + (-data) + \")\"; } elements[i].style.backgroundColor = color; } elements = document.getElementById(id).getElementsByClassName(\"Details\"); for (i=0; i<elements.length; i++) { elements[i].setAttribute(\"data-title\", \"-\"); NetworKit_toggleDetails(elements[i]); elements[i].onclick = function (e) { NetworKit_toggleDetails((e.target) ? e.target : e.srcElement); } } elements = document.getElementById(id).getElementsByClassName(\"MathValue\"); for (i=elements.length-1; i>=0; i--) { value = elements[i].innerHTML.trim(); if (value === \"nan\") { elements[i].parentNode.innerHTML = \"\" } } elements = document.getElementById(id).getElementsByClassName(\"SubCategory\"); for (i=elements.length-1; i>=0; i--) { value = elements[i].innerHTML.trim(); if (value === \"\") { elements[i].parentNode.removeChild(elements[i]) } } elements = document.getElementById(id).getElementsByClassName(\"Category\"); for (i=elements.length-1; i>=0; i--) { value = elements[i].innerHTML.trim(); if (value === \"\") { elements[i].parentNode.removeChild(elements[i]) } } var isFirefox = false; try { isFirefox = typeof InstallTrigger !== \"undefined\"; } catch (e) {} if (!isFirefox) { alert(\"Currently the function\\'s output is only fully supported by Firefox.\"); } } function NetworKit_plotUpdate(source) { var index = source.getAttribute(\"data-image-index\"); var data = source.getAttribute(\"data-image-\" + index); var image = document.getElementById(source.id + \"_Image\"); image.style.backgroundImage = \"url(\" + data + \")\"; } function NetworKit_showElement(id, show) { var element = document.getElementById(id); element.style.display = (show) ? \"block\" : \"none\"; } function NetworKit_overlayShow(source) { NetworKit_overlayUpdate(source); NetworKit_showElement(\"NetworKit_Overlay\", true); } function NetworKit_overlayUpdate(source) { document.getElementById(\"NetworKit_Overlay_Title\").innerHTML = source.title; var index = source.getAttribute(\"data-image-index\"); var data = source.getAttribute(\"data-image-\" + index); var image = document.getElementById(\"NetworKit_Overlay_Image\"); image.setAttribute(\"data-id\", source.id); image.style.backgroundImage = \"url(\" + data + \")\"; var link = document.getElementById(\"NetworKit_Overlay_Toolbar_Bottom_Save\"); link.href = data; link.download = source.title + \".svg\"; } function NetworKit_overlayImageShift(delta) { var image = document.getElementById(\"NetworKit_Overlay_Image\"); var source = document.getElementById(image.getAttribute(\"data-id\")); var index = parseInt(source.getAttribute(\"data-image-index\")); var length = parseInt(source.getAttribute(\"data-image-length\")); var index = (index+delta) % length; if (index < 0) { index = length + index; } source.setAttribute(\"data-image-index\", index); NetworKit_overlayUpdate(source); } function NetworKit_toggleDetails(source) { var childs = source.children; var show = false; if (source.getAttribute(\"data-title\") == \"-\") { source.setAttribute(\"data-title\", \"+\"); show = false; } else { source.setAttribute(\"data-title\", \"-\"); show = true; } for (i=0; i<childs.length; i++) { if (show) { childs[i].style.display = \"block\"; } else { childs[i].style.display = \"none\"; } } }';\n\t\t\t\telement.setAttribute('id', 'NetworKit_script');\n\t\t\t\tdocument.head.appendChild(element);\n\t\t\t}\n\t\t\n\t\t\t\t\n\t\t\t{\n\t\t\t\tvar element = document.getElementById('NetworKit_style');\n\t\t\t\tif (element) {\n\t\t\t\t\telement.parentNode.removeChild(element);\n\t\t\t\t}\n\t\t\t\telement = document.createElement('style');\n\t\t\t\telement.type = 'text/css';\n\t\t\t\telement.innerHTML = '.NetworKit_Page { font-family: Arial, Helvetica, sans-serif; font-size: 14px; } .NetworKit_Page .Value:before { font-family: Arial, Helvetica, sans-serif; font-size: 1.05em; content: attr(data-title) \":\"; margin-left: -2.5em; padding-right: 0.5em; } .NetworKit_Page .Details .Value:before { display: block; } .NetworKit_Page .Value { font-family: monospace; white-space: pre; padding-left: 2.5em; white-space: -moz-pre-wrap !important; white-space: -pre-wrap; white-space: -o-pre-wrap; white-space: pre-wrap; word-wrap: break-word; tab-size: 4; -moz-tab-size: 4; } .NetworKit_Page .Category { clear: both; padding-left: 1em; margin-bottom: 1.5em; } .NetworKit_Page .Category:before { content: attr(data-title); font-size: 1.75em; display: block; margin-left: -0.8em; margin-bottom: 0.5em; } .NetworKit_Page .SubCategory { margin-bottom: 1.5em; padding-left: 1em; } .NetworKit_Page .SubCategory:before { font-size: 1.6em; display: block; margin-left: -0.8em; margin-bottom: 0.5em; } .NetworKit_Page .SubCategory[data-title]:before { content: attr(data-title); } .NetworKit_Page .Block { display: block; } .NetworKit_Page .Block:after { content: \".\"; visibility: hidden; display: block; height: 0; clear: both; } .NetworKit_Page .Block .Thumbnail_Overview, .NetworKit_Page .Block .Thumbnail_ScatterPlot { width: 260px; float: left; } .NetworKit_Page .Block .Thumbnail_Overview img, .NetworKit_Page .Block .Thumbnail_ScatterPlot img { width: 260px; } .NetworKit_Page .Block .Thumbnail_Overview:before, .NetworKit_Page .Block .Thumbnail_ScatterPlot:before { display: block; text-align: center; font-weight: bold; } .NetworKit_Page .Block .Thumbnail_Overview:before { content: attr(data-title); } .NetworKit_Page .HeatCell { font-family: \"Courier New\", Courier, monospace; cursor: pointer; } .NetworKit_Page .HeatCell, .NetworKit_Page .HeatCellName { display: inline; padding: 0.1em; margin-right: 2px; background-color: #FFFFFF } .NetworKit_Page .HeatCellName { margin-left: 0.25em; } .NetworKit_Page .HeatCell:before { content: attr(data-heat); display: inline-block; color: #000000; width: 4em; text-align: center; } .NetworKit_Page .Measure { clear: both; } .NetworKit_Page .Measure .Details { cursor: pointer; } .NetworKit_Page .Measure .Details:before { content: \"[\" attr(data-title) \"]\"; display: block; } .NetworKit_Page .Measure .Details .Value { border-left: 1px dotted black; margin-left: 0.4em; padding-left: 3.5em; pointer-events: none; } .NetworKit_Page .Measure .Details .Spacer:before { content: \".\"; opacity: 0.0; pointer-events: none; } .NetworKit_Page .Measure .Plot { width: 440px; height: 440px; cursor: pointer; float: left; margin-left: -0.9em; margin-right: 20px; } .NetworKit_Page .Measure .Plot .Image { background-repeat: no-repeat; background-position: center center; background-size: contain; height: 100%; pointer-events: none; } .NetworKit_Page .Measure .Stat { width: 500px; float: left; } .NetworKit_Page .Measure .Stat .Group { padding-left: 1.25em; margin-bottom: 0.75em; } .NetworKit_Page .Measure .Stat .Group .Title { font-size: 1.1em; display: block; margin-bottom: 0.3em; margin-left: -0.75em; border-right-style: dotted; border-right-width: 1px; border-bottom-style: dotted; border-bottom-width: 1px; background-color: #D0D0D0; padding-left: 0.2em; } .NetworKit_Page .Measure .Stat .Group .List { -webkit-column-count: 3; -moz-column-count: 3; column-count: 3; } .NetworKit_Page .Measure .Stat .Group .List .Entry { position: relative; line-height: 1.75em; } .NetworKit_Page .Measure .Stat .Group .List .Entry[data-tooltip]:before { position: absolute; left: 0; top: -40px; background-color: #808080; color: #ffffff; height: 30px; line-height: 30px; border-radius: 5px; padding: 0 15px; content: attr(data-tooltip); white-space: nowrap; display: none; } .NetworKit_Page .Measure .Stat .Group .List .Entry[data-tooltip]:after { position: absolute; left: 15px; top: -10px; border-top: 7px solid #808080; border-left: 7px solid transparent; border-right: 7px solid transparent; content: \"\"; display: none; } .NetworKit_Page .Measure .Stat .Group .List .Entry[data-tooltip]:hover:after, .NetworKit_Page .Measure .Stat .Group .List .Entry[data-tooltip]:hover:before { display: block; } .NetworKit_Page .Measure .Stat .Group .List .Entry .MathValue { font-family: \"Courier New\", Courier, monospace; } .NetworKit_Page .Measure:after { content: \".\"; visibility: hidden; display: block; height: 0; clear: both; } .NetworKit_Page .PartitionPie { clear: both; } .NetworKit_Page .PartitionPie img { width: 600px; } #NetworKit_Overlay { left: 0px; top: 0px; display: none; position: absolute; width: 100%; height: 100%; background-color: rgba(0,0,0,0.6); z-index: 1000; } #NetworKit_Overlay_Title { position: absolute; color: white; transform: rotate(-90deg); width: 32em; height: 32em; padding-right: 0.5em; padding-top: 0.5em; text-align: right; font-size: 40px; } #NetworKit_Overlay .button { background: white; cursor: pointer; } #NetworKit_Overlay .button:before { size: 13px; display: inline-block; text-align: center; margin-top: 0.5em; margin-bottom: 0.5em; width: 1.5em; height: 1.5em; } #NetworKit_Overlay .icon-close:before { content: \"X\"; } #NetworKit_Overlay .icon-previous:before { content: \"P\"; } #NetworKit_Overlay .icon-next:before { content: \"N\"; } #NetworKit_Overlay .icon-save:before { content: \"S\"; } #NetworKit_Overlay_Toolbar_Top, #NetworKit_Overlay_Toolbar_Bottom { position: absolute; width: 40px; right: 13px; text-align: right; z-index: 1100; } #NetworKit_Overlay_Toolbar_Top { top: 0.5em; } #NetworKit_Overlay_Toolbar_Bottom { Bottom: 0.5em; } #NetworKit_Overlay_ImageContainer { position: absolute; top: 5%; left: 5%; height: 90%; width: 90%; background-repeat: no-repeat; background-position: center center; background-size: contain; } #NetworKit_Overlay_Image { height: 100%; width: 100%; background-repeat: no-repeat; background-position: center center; background-size: contain; }';\n\t\t\t\telement.setAttribute('id', 'NetworKit_style');\n\t\t\t\tdocument.head.appendChild(element);\n\t\t\t}\n\t\t\n\t\t\t\t\n\t\t\t{\n\t\t\t\tvar element = document.getElementById('NetworKit_Overlay');\n\t\t\t\tif (element) {\n\t\t\t\t\telement.parentNode.removeChild(element);\n\t\t\t\t}\n\t\t\t\telement = document.createElement('div');\n\t\t\t\telement.innerHTML = '<div id=\"NetworKit_Overlay_Toolbar_Top\"><div class=\"button icon-close\" id=\"NetworKit_Overlay_Close\" /></div><div id=\"NetworKit_Overlay_Title\" /> <div id=\"NetworKit_Overlay_ImageContainer\"> <div id=\"NetworKit_Overlay_Image\" /> </div> <div id=\"NetworKit_Overlay_Toolbar_Bottom\"> <div class=\"button icon-previous\" onclick=\"NetworKit_overlayImageShift(-1)\" /> <div class=\"button icon-next\" onclick=\"NetworKit_overlayImageShift(1)\" /> <a id=\"NetworKit_Overlay_Toolbar_Bottom_Save\"><div class=\"button icon-save\" /></a> </div>';\n\t\t\t\telement.setAttribute('id', 'NetworKit_Overlay');\n\t\t\t\tdocument.body.appendChild(element);\n\t\t\t\tdocument.getElementById('NetworKit_Overlay_Close').onclick = function (e) {\n\t\t\t\t\tdocument.getElementById('NetworKit_Overlay').style.display = 'none';\n\t\t\t\t}\n\t\t\t}\n\t\t\n\t\t\t-->\n\t\t\t</script>\n\t\t"
     },
     "metadata": {},
     "output_type": "display_data"
    }
   ],
   "source": [
    "%matplotlib inline\n",
    "\n",
    "import sys; sys.path.insert(0, \"..\")\n",
    "\n",
    "import numpy as np\n",
    "import pandas as pd\n",
    "import networkx as nx\n",
    "import matplotlib.pyplot as plt\n",
    "\n",
    "import collections\n",
    "from math import log\n",
    "\n",
    "# import time\n",
    "import pickle\n",
    "\n",
    "# from random import sample\n",
    "from communityDetection.orcci import *\n",
    "from utils.pobsnet_sinfo import *\n",
    "\n",
    "from sklearn.metrics import normalized_mutual_info_score"
   ]
  },
  {
   "cell_type": "code",
   "execution_count": 2,
   "metadata": {
    "pycharm": {
     "name": "#%%\n"
    }
   },
   "outputs": [],
   "source": [
    "verbose = \"TRACE\"\n",
    "\n",
    "filename = \"../data/AI-1Main/BIOGRID_Braun2011_21798944.xlsx\"\n",
    "\n",
    "df = pd.read_excel(filename)\n",
    "# df.head()\n",
    "\n",
    "gene1_label = \"Systematic Name Interactor A\"\n",
    "gene2_label = \"Systematic Name Interactor B\"\n",
    "g = nx.from_pandas_edgelist(df,source=gene1_label,target=gene2_label)\n",
    "g.name = 'PhIBraun'"
   ]
  },
  {
   "cell_type": "code",
   "execution_count": 3,
   "metadata": {
    "pycharm": {
     "name": "#%%\n"
    }
   },
   "outputs": [
    {
     "name": "stdout",
     "output_type": "stream",
     "text": [
      "Name: PhIBraun\n",
      "Type: Graph\n",
      "Number of nodes: 2657\n",
      "Number of edges: 5641\n",
      "Average degree:   4.2461\n",
      "Number of connected components: 126 \n",
      "\n",
      "<<< Without self loops >>>\n",
      "Name: PhIBraun\n",
      "Type: Graph\n",
      "Number of nodes: 2657\n",
      "Number of edges: 5506\n",
      "Average degree:   4.1445\n",
      "Number of self loops: 135\n",
      "Top 5 highest degree nodes: [('AT5G22290', 222), ('AT4G19030', 181), ('AT4G35580', 160), ('AT1G22920', 134), ('AT1G27300', 112)]\n"
     ]
    }
   ],
   "source": [
    "print(nx.info(g))\n",
    "print(\"Number of connected components:\", nx.number_connected_components(g), \"\\n\")\n",
    "\n",
    "edge_selfloops = [e1 for e1, e2 in nx.selfloop_edges(g)]\n",
    "g.remove_edges_from(nx.selfloop_edges(g))\n",
    "\n",
    "print(\"<<< Without self loops >>>\")\n",
    "print(nx.info(g))\n",
    "print(\"Number of self loops:\", len(edge_selfloops))\n",
    "\n",
    "# degree list\n",
    "degree_list = sorted(g.degree, key=lambda x: x[1], reverse=True)\n",
    "print(\"Top 5 highest degree nodes:\", degree_list[0:5])"
   ]
  },
  {
   "cell_type": "markdown",
   "metadata": {
    "pycharm": {
     "name": "#%% md\n"
    }
   },
   "source": [
    "### Side Information (Global)"
   ]
  },
  {
   "cell_type": "code",
   "execution_count": 6,
   "metadata": {
    "pycharm": {
     "name": "#%%\n"
    }
   },
   "outputs": [
    {
     "name": "stdout",
     "output_type": "stream",
     "text": [
      "2657\n",
      "Amount of SideInfo: 388\n",
      "Number of known pathways: 18\n",
      "Pathways: ['abscisic acid', 'amino acid metabolism', 'auxin', 'brassinosteroid', 'circadian rhythm', 'cytokinin', 'dna repair replicate', 'dna rna metabolism', 'ethylene', 'fatty acid metabolism', 'gibberellin', 'jasmonic acid', 'metabolism', 'plant pathogen interaction', 'protein processing', 'rna processing', 'salicylic acid', 'signal transduction']\n"
     ]
    }
   ],
   "source": [
    "filename = \"../data/AI-1Main/ppi_braun_SideInfo_OtherPath.edit.csv\"\n",
    "\n",
    "df_sinfo = pd.read_csv(filename) # ,index_col=1 ,header=0\n",
    "df_sinfo = df_sinfo[['Label','SideInfo_Label']]\n",
    "\n",
    "print(len(df_sinfo))\n",
    "\n",
    "# Correct typos and remove 'multi' and 'unknown' from side information list\n",
    "\n",
    "df_sinfo = df_sinfo.replace({'Unknown':np.nan}, regex=True)\n",
    "\n",
    "# Ignore phytohormone associated groups\n",
    "df_sinfo = df_sinfo.replace({'Abiotic_biotic_stimulus':np.nan}, regex=False)\n",
    "df_sinfo = df_sinfo.replace({'Transcription factor':np.nan}, regex=False)\n",
    "df_sinfo = df_sinfo.replace({'Transcription_factor':np.nan}, regex=False)\n",
    "df_sinfo = df_sinfo.replace({'Transcription_factor,Stress':np.nan}, regex=False)\n",
    "df_sinfo = df_sinfo.replace({'transcription factor':np.nan}, regex=False)\n",
    "df_sinfo = df_sinfo.replace({'Stress':np.nan}, regex=False)\n",
    "df_sinfo = df_sinfo.replace({'Transporter':np.nan}, regex=False)\n",
    "df_sinfo = df_sinfo.replace({'transporter':np.nan}, regex=False)\n",
    "\n",
    "\n",
    "df_sinfo = df_sinfo.replace({'Multi':np.nan}, regex=False)\n",
    "df_sinfo = df_sinfo.replace({'multi':np.nan}, regex=False)\n",
    "df_sinfo = df_sinfo.replace({'gibberellin,brassinosteroid':np.nan}, regex=False)\n",
    "df_sinfo = df_sinfo.replace({'jasmonic acid,salicylic acid':np.nan}, regex=False)\n",
    "\n",
    "# not in the list (not considered for side information)\n",
    "df_sinfo = df_sinfo.replace({'AT hook motif ':np.nan}, regex=False)\n",
    "df_sinfo = df_sinfo.replace({'photosynthesis':np.nan}, regex=False)\n",
    "\n",
    "\n",
    "# Set higher level categories\n",
    "df_sinfo = df_sinfo.replace({'Abscisic_acid':'abscisic acid'}, regex=False)\n",
    "df_sinfo = df_sinfo.replace({'abscisic acid ':'abscisic acid'}, regex=False)\n",
    "df_sinfo = df_sinfo.replace({'Brassinosteroid':'brassinosteroid'}, regex=False)\n",
    "df_sinfo = df_sinfo.replace({'Cytokinin':'cytokinin'}, regex=False)\n",
    "df_sinfo = df_sinfo.replace({'Ethylene':'ethylene'}, regex=False)\n",
    "df_sinfo = df_sinfo.replace({'Gibberellin':'gibberellin'}, regex=False)\n",
    "df_sinfo = df_sinfo.replace({'gibberellic acid':'gibberellin'}, regex=False)\n",
    "df_sinfo = df_sinfo.replace({'Jasmonic_acid':'jasmonic acid'}, regex=False)\n",
    "\n",
    "# DOUBLE CHECK TO INCLUDE OR NOT\n",
    "df_sinfo = df_sinfo.replace({'auxin,Circadian rhythm':'auxin'}, regex=False)\n",
    "df_sinfo = df_sinfo.replace({'abscisic acid,transporter':'abscisic acid'}, regex=False)\n",
    "df_sinfo = df_sinfo.replace({'ethylene,transcription factor':'ethylene'}, regex=False)\n",
    "\n",
    "df_sinfo = df_sinfo.replace({'DNA repair,abscisic acid':'abscisic acid'}, regex=False)\n",
    "\n",
    "# Other pathways\n",
    "df_sinfo = df_sinfo.replace({'Circadian rhythm':'circadian rhythm'}, regex=False)\n",
    "df_sinfo = df_sinfo.replace({'Citrate cycle,Pyruvate metabolism,Glycolysis/Gluconeogenesis':'metabolism'}, regex=False)\n",
    "df_sinfo = df_sinfo.replace({'Cysteine and methionine metabolism':'amino acid metabolism'}, regex=False)\n",
    "df_sinfo = df_sinfo.replace({'DNA repair':'dna repair replicate'}, regex=False)\n",
    "df_sinfo = df_sinfo.replace({'DNA replication':'dna repair replicate'}, regex=False)\n",
    "df_sinfo = df_sinfo.replace({'Endocytosis':'protein processing'}, regex=False)\n",
    "df_sinfo = df_sinfo.replace({'Fructose and mannose metabolism':'dna rna metabolism'}, regex=False)\n",
    "df_sinfo = df_sinfo.replace({'MAPK':'signal transduction'}, regex=False)\n",
    "df_sinfo = df_sinfo.replace({'Mismatch repair,DNA replication,Nucleotide excision repair':'dna repair replicate'}, regex=False)\n",
    "df_sinfo = df_sinfo.replace({'Phosphatidylinositol signaling system':'signal transduction'}, regex=False)\n",
    "df_sinfo = df_sinfo.replace({'Protein processing':'protein processing'}, regex=False)\n",
    "df_sinfo = df_sinfo.replace({'Protein processing in endoplasmic reticulum':'protein processing'}, regex=False)\n",
    "df_sinfo = df_sinfo.replace({'Protein processing in endoplasmic reticulum,Ubiquitin mediated proteolysis':'protein processing'}, regex=False)\n",
    "df_sinfo = df_sinfo.replace({'RNA degradation':'rna processing'}, regex=False)\n",
    "df_sinfo = df_sinfo.replace({'RNA polymerase':'rna processing'}, regex=False)\n",
    "df_sinfo = df_sinfo.replace({'RNA processing':'rna processing'}, regex=False)\n",
    "df_sinfo = df_sinfo.replace({'RNA transport':'rna processing'}, regex=False)\n",
    "df_sinfo = df_sinfo.replace({'Ribosomal':'protein processing'}, regex=False)\n",
    "df_sinfo = df_sinfo.replace({'Ribosome':'protein processing'}, regex=False)\n",
    "df_sinfo = df_sinfo.replace({'Spliceosome':'rna processing'}, regex=False)\n",
    "df_sinfo = df_sinfo.replace({'Spliceosome,RNA transport':'rna processing'}, regex=False)\n",
    "df_sinfo = df_sinfo.replace({'Ubiquitin mediated proteolysis':'protein processing'}, regex=False)\n",
    "df_sinfo = df_sinfo.replace({'Valine, leucine and isoleucine degradation,Peroxisome':'fatty acid metabolism'}, regex=False)\n",
    "\n",
    "df_sinfo = df_sinfo.replace({'peroxisome':'fatty acid metabolism'}, regex=False)\n",
    "df_sinfo = df_sinfo.replace({'plant-pathogen interaction':'plant pathogen interaction'}, regex=False)\n",
    "df_sinfo = df_sinfo.replace({'protein biosynthesis':'protein processing'}, regex=False)\n",
    "df_sinfo = df_sinfo.replace({'protein degradation':'protein processing'}, regex=False)\n",
    "df_sinfo = df_sinfo.replace({'protein transport':'protein processing'}, regex=False)\n",
    "df_sinfo = df_sinfo.replace({'ribosomal':'protein processing'}, regex=False)\n",
    "df_sinfo = df_sinfo.replace({'ribosome':'protein processing'}, regex=False)\n",
    "\n",
    "\n",
    "\n",
    "# filter row with valid SideInfo\n",
    "df_sinfo = df_sinfo[[isinstance(x,str) for x in df_sinfo['SideInfo_Label']]]  \n",
    "pathway_list = list(set(df_sinfo['SideInfo_Label']))\n",
    "pathway_list.sort()\n",
    "pathway_list.insert(0,'unknown')\n",
    "print(\"Amount of SideInfo: %d\" % len(df_sinfo))\n",
    "print(\"Number of known pathways: %d\" % (len(pathway_list)-1))\n",
    "print(\"Pathways:\", pathway_list[1:])\n"
   ]
  },
  {
   "cell_type": "code",
   "execution_count": 7,
   "metadata": {
    "pycharm": {
     "name": "#%%\n"
    }
   },
   "outputs": [
    {
     "data": {
      "text/plain": "          Label      SideInfo_Label\n7     AT1G01210      rna processing\n22    AT1G02140      rna processing\n33    AT1G03140      rna processing\n34    AT1G03250      rna processing\n35    AT1G03360      rna processing\n...         ...                 ...\n2604  AT5G63370      rna processing\n2618  AT5G64813            ethylene\n2624  AT5G65210      salicylic acid\n2625  AT5G65220  protein processing\n2630  AT5G65540      rna processing\n\n[388 rows x 2 columns]",
      "text/html": "<div>\n<style scoped>\n    .dataframe tbody tr th:only-of-type {\n        vertical-align: middle;\n    }\n\n    .dataframe tbody tr th {\n        vertical-align: top;\n    }\n\n    .dataframe thead th {\n        text-align: right;\n    }\n</style>\n<table border=\"1\" class=\"dataframe\">\n  <thead>\n    <tr style=\"text-align: right;\">\n      <th></th>\n      <th>Label</th>\n      <th>SideInfo_Label</th>\n    </tr>\n  </thead>\n  <tbody>\n    <tr>\n      <th>7</th>\n      <td>AT1G01210</td>\n      <td>rna processing</td>\n    </tr>\n    <tr>\n      <th>22</th>\n      <td>AT1G02140</td>\n      <td>rna processing</td>\n    </tr>\n    <tr>\n      <th>33</th>\n      <td>AT1G03140</td>\n      <td>rna processing</td>\n    </tr>\n    <tr>\n      <th>34</th>\n      <td>AT1G03250</td>\n      <td>rna processing</td>\n    </tr>\n    <tr>\n      <th>35</th>\n      <td>AT1G03360</td>\n      <td>rna processing</td>\n    </tr>\n    <tr>\n      <th>...</th>\n      <td>...</td>\n      <td>...</td>\n    </tr>\n    <tr>\n      <th>2604</th>\n      <td>AT5G63370</td>\n      <td>rna processing</td>\n    </tr>\n    <tr>\n      <th>2618</th>\n      <td>AT5G64813</td>\n      <td>ethylene</td>\n    </tr>\n    <tr>\n      <th>2624</th>\n      <td>AT5G65210</td>\n      <td>salicylic acid</td>\n    </tr>\n    <tr>\n      <th>2625</th>\n      <td>AT5G65220</td>\n      <td>protein processing</td>\n    </tr>\n    <tr>\n      <th>2630</th>\n      <td>AT5G65540</td>\n      <td>rna processing</td>\n    </tr>\n  </tbody>\n</table>\n<p>388 rows × 2 columns</p>\n</div>"
     },
     "execution_count": 7,
     "metadata": {},
     "output_type": "execute_result"
    }
   ],
   "source": [
    "df_sinfo[['Label','SideInfo_Label']]"
   ]
  },
  {
   "cell_type": "code",
   "execution_count": 8,
   "metadata": {
    "pycharm": {
     "name": "#%%\n"
    }
   },
   "outputs": [],
   "source": [
    "# filename = \"../results/PhI_files/Braun/ppi_braun_SideInfo_OtherPath.edit2.csv\"\n",
    "# df_sinfo = pd.read_csv(filename) # ,index_col=1 ,header=0\n",
    "# len(df_sinfo)"
   ]
  },
  {
   "cell_type": "code",
   "execution_count": 9,
   "metadata": {
    "pycharm": {
     "name": "#%%\n"
    }
   },
   "outputs": [],
   "source": [
    "# label nodes with known pathways\n",
    "nx.set_node_attributes(g, 'unknown', \"pathway\")\n",
    "nx.set_node_attributes(g, 0, \"pathwayID\")\n",
    "\n",
    "for idx, row  in df_sinfo.iterrows():\n",
    "    gene = row['Label']\n",
    "    sinfo_label = row['SideInfo_Label']\n",
    "    path_id = pathway_list.index(sinfo_label)\n",
    "    g.nodes[gene]['pathway'] = sinfo_label\n",
    "    g.nodes[gene]['pathwayID'] = path_id"
   ]
  },
  {
   "cell_type": "code",
   "execution_count": 10,
   "metadata": {
    "pycharm": {
     "name": "#%%\n"
    }
   },
   "outputs": [
    {
     "name": "stdout",
     "output_type": "stream",
     "text": [
      "Side Info Summary:\n",
      "Total side information: 388\n",
      "rna processing 79\n",
      "auxin 46\n",
      "abscisic acid 44\n",
      "protein processing 95\n",
      "fatty acid metabolism 13\n",
      "salicylic acid 14\n",
      "signal transduction 8\n",
      "gibberellin 11\n",
      "dna repair replicate 12\n",
      "jasmonic acid 16\n",
      "ethylene 25\n",
      "brassinosteroid 14\n",
      "dna rna metabolism 2\n",
      "metabolism 1\n",
      "cytokinin 5\n",
      "plant pathogen interaction 1\n",
      "amino acid metabolism 1\n",
      "circadian rhythm 1\n"
     ]
    }
   ],
   "source": [
    "# create side information list\n",
    "\n",
    "# check if known nodes belonging to the same community have connection\n",
    "known_partition = dict()  # {0: [], 1: [], 2: []}\n",
    "\n",
    "edges_known = []  # list of all edges known (both existing and artificially created)\n",
    "nodes_known = list(df_sinfo['Label'])\n",
    "for i in nodes_known:\n",
    "    block = g.nodes[i]['pathway']\n",
    "    insert_to_dict_list(known_partition, block, i)\n",
    "    # known_partition[block].append(i)\n",
    "    # print(i, block)\n",
    "\n",
    "print(\"Side Info Summary:\")\n",
    "print(\"Total side information: %d\" % len(nodes_known))\n",
    "for i in known_partition:\n",
    "    print(i, len(known_partition[i]))\n",
    "    \n",
    "edges_known = []"
   ]
  },
  {
   "cell_type": "code",
   "execution_count": 11,
   "metadata": {
    "pycharm": {
     "name": "#%%\n"
    }
   },
   "outputs": [
    {
     "name": "stdout",
     "output_type": "stream",
     "text": [
      "Known edges:\n",
      "Number of known edges: 81\n"
     ]
    }
   ],
   "source": [
    "for pathway_type in known_partition:\n",
    "    pathway_gene_list = known_partition[pathway_type]\n",
    "    for idx1, gene1 in enumerate(pathway_gene_list):\n",
    "        for idx2, gene2 in enumerate(pathway_gene_list[idx1+1:]):\n",
    "                \n",
    "            # Trial # 2: Soft force of weight to maximum (and ORC)\n",
    "            if g.has_edge(gene1,gene2):\n",
    "                edges_known.append((gene1, gene2))\n",
    "                # g.edges[(gene1, gene2)][''] = 1.0  # unweighted\n",
    "        \n",
    "print(\"Known edges:\")\n",
    "# print(edges_known)\n",
    "print(\"Number of known edges:\", len(edges_known))"
   ]
  },
  {
   "cell_type": "code",
   "execution_count": 12,
   "metadata": {
    "pycharm": {
     "name": "#%%\n"
    }
   },
   "outputs": [
    {
     "name": "stdout",
     "output_type": "stream",
     "text": [
      "Name: PhIBraun\n",
      "Type: Graph\n",
      "Number of nodes: 2657\n",
      "Number of edges: 5506\n",
      "Average degree:   4.1445\n",
      "0 AT1G05410 {'pathway': 'unknown', 'pathwayID': 0}\n",
      "1 AT3G10140 {'pathway': 'unknown', 'pathwayID': 0}\n",
      "2 AT3G54850 {'pathway': 'unknown', 'pathwayID': 0}\n",
      "3 AT5G19010 {'pathway': 'signal transduction', 'pathwayID': 18}\n",
      "4 AT3G07780 {'pathway': 'rna processing', 'pathwayID': 16}\n",
      "5 AT5G66720 {'pathway': 'unknown', 'pathwayID': 0}\n",
      "0 ('AT1G05410', 'AT3G10140') {}\n",
      "1 ('AT1G05410', 'AT4G12450') {}\n",
      "2 ('AT1G05410', 'AT2G32650') {}\n",
      "3 ('AT1G05410', 'AT5G65400') {}\n",
      "4 ('AT1G05410', 'AT1G49850') {}\n",
      "5 ('AT1G05410', 'AT5G61230') {}\n"
     ]
    }
   ],
   "source": [
    "print(nx.info(g))\n",
    "\n",
    "for idx, node in enumerate(g.nodes()):\n",
    "    print(idx, node, g.nodes[node])\n",
    "    if idx == 5:\n",
    "        break\n",
    "    \n",
    "for idx, edge in enumerate(g.edges()):\n",
    "    print(idx, edge, g.edges[edge])\n",
    "    if idx == 5:\n",
    "        break"
   ]
  },
  {
   "cell_type": "code",
   "execution_count": 9,
   "metadata": {
    "scrolled": true,
    "pycharm": {
     "name": "#%%\n"
    }
   },
   "outputs": [],
   "source": [
    "# ORCCI for no side info and complete observation\n",
    "\n",
    "# g_orc_all, partitions_list = orcci(g, verbose=\"INFO\")\n",
    "\n",
    "# filename_orc = \"../results/Phi_Main/PhiMain_orc_all.gml\"\n",
    "# nx.write_gml(g_orc_all.G,filename_orc,stringizer=str)"
   ]
  },
  {
   "cell_type": "markdown",
   "metadata": {
    "pycharm": {
     "name": "#%% md\n"
    }
   },
   "source": [
    "### Community Detection"
   ]
  },
  {
   "cell_type": "code",
   "execution_count": 13,
   "metadata": {
    "pycharm": {
     "name": "#%%\n"
    }
   },
   "outputs": [
    {
     "name": "stdout",
     "output_type": "stream",
     "text": [
      "Using number of cpu threads: = 16\n",
      "\n",
      "\n",
      "FINAL RESULT\n",
      "========================================================\n",
      "Elapsed time: 2662.9461 (s)\n",
      "Number of iterations: 3151\n",
      "Number of communities detected: 637\n",
      "Size of largest community: 158\n",
      "List of component sizes (final): [8 3 6 3 4 2 4 4 7 8 2 11 3 4 158 9 6 3 5 7 2 9 5 4 5 3 7 2 4 3 1 36 2 14 5 30 16 5 3 7 3 26 8 3 3 3 12 5 13 4 3 3 20 3 6 5 6 3 5 2 4 5 2 3 82 12 4 6 5 4 3 2 7 4 4 8 4 3 3 2 6 4 3 2 7 14 4 6 3 5 5 5 8 5 8 3 3 1 5 2 5 6 2 5 3 7 2 7 3 14 3 4 4 4 5 2 7 4 3 2 3 3 1 3 5 5 5 6 3 4 3 3 4 2 5 2 3 8 6 3 5 3 3 4 2 3 5 10 3 10 2 6 31 3 2 3 4 3 3 3 3 3 3 3 5 5 5 2 10 3 4 5 3 3 5 4 4 3 6 5 5 8 5 2 3 3 7 3 4 2 2 3 4 8 2 4 2 2 3 4 31 3 2 3 2 5 1 6 2 5 3 7 3 4 5 9 4 2 3 6 3 4 5 3 6 4 3 2 5 3 5 4 3 2 3 2 3 2 2 3 7 3 3 3 4 2 3 2 9 2 6 2 5 3 4 3 2 2 4 3 4 3 18 5 4 4 4 2 5 1 5 2 2 3 2 3 4 3 8 3 2 6 6 2 6 4 2 5 4 4 2 3 2 3 6 7 3 3 3 3 5 3 4 3 5 4 3 2 5 2 7 4 2 4 4 3 4 3 3 1 2 5 2 2 4 3 2 4 3 4 4 3 2 3 5 2 2 4 4 5 6 5 3 12 19 3 5 3 4 3 3 2 3 2 5 3 3 3 3 3 3 2 3 2 2 2 2 4 5 4 4 3 2 2 4 2 10 3 2 4 3 2 3 3 4 1 3 9 4 4 5 6 3 4 2 2 3 5 3 4 2 2 4 2 3 3 4 4 2 2 2 4 12 5 2 2 5 3 7 4 16 4 3 7 2 7 8 3 2 2 5 2 3 3 3 4 3 3 3 5 3 2 4 3 2 2 2 3 2 4 2 3 2 2 4 6 5 3 4 3 2 3 3 1 1 4 2 2 3 3 2 3 3 3 2 2 2 2 2 4 4 3 2 2 3 3 3 4 2 3 4 3 5 3 2 3 2 3 2 2 3 2 3 3 1 2 3 3 2 2 3 2 2 2 2 1 3 2 2 2 2 1 8 2 1 1 3 3 2 2 2 4 4 3 3 2 1 3 2 3 2 2 2 2 2 3 2 2 3 2 1 2 2 2 3 2 3 1 2 3 2 2 2 2 2 1 3 2 4 3 2 3 2 2 2 2 2 2 3 3 2 2 2 2 1 2 2 2 2 2 2 2 1 2 2 2 3 2 1 2 2 2 2 2 2 2 2 2 2 2 2 2 3 2 3 2 1 1 2 1 2 2 2 2 1 2 2 2 2 1 2 1 2 2 3 2 2]\n",
      "MAXIMUM MODULARITY PARTITION RESULT\n",
      "========================================================\n",
      "Modularity: 0.5787\n",
      "Number of communities detected: 305\n",
      "List of component sizes (max mod): [38 11 21 83 149 15 35 15 8 2 11 52 354 9 17 198 32 4 107 6 1 36 8 48 26 27 18 7 75 12 15 13 50 6 17 3 10 7 4 19 10 6 3 4 6 5 8 10 3 1 5 2 6 4 7 10 8 12 1 12 26 26 2 11 13 3 5 5 28 31 6 4 3 20 13 10 5 5 8 3 2 8 2 4 2 3 31 2 3 2 1 12 5 3 9 2 3 5 6 3 6 2 3 3 4 2 3 2 7 13 4 4 5 1 2 5 2 3 3 10 3 5 7 4 3 3 1 2 2 2 4 3 3 4 3 4 12 19 3 5 3 6 2 6 4 3 2 2 4 2 10 5 3 1 3 9 4 2 2 2 3 4 4 2 4 12 15 4 7 2 7 3 4 3 2 2 3 5 4 3 7 5 3 1 1 4 3 2 2 2 4 4 2 2 3 7 2 4 2 2 2 3 3 3 1 3 2 2 2 1 3 2 2 2 1 8 1 1 2 2 2 4 4 3 3 1 3 2 3 2 2 2 3 1 2 2 3 2 3 1 2 2 2 2 1 2 4 2 2 2 2 2 3 3 2 2 2 1 2 2 2 2 2 1 2 2 5 2 1 2 2 2 2 2 2 2 2 2 2 2 2 3 2 3 2 1 1 2 1 2 2 2 1 2 2 2 2 1 2 1 2 2 3 2 2]\n",
      "\n",
      "../results/PhI_files/AI-1Main/Braun.gml\n"
     ]
    }
   ],
   "source": [
    "# ORCCI for no side info and complete observation\n",
    "orc_main, partitions_list = orcci(g, block_label=\"blockRicci\", verbose=\"ERROR\") # \"ERROR\"\n",
    "\n",
    "# output .gml filename creation\n",
    "f_out = \"../results/PhI_files/AI-1Main/Braun.gml\"\n",
    "\n",
    "print(f_out)\n",
    "nx.write_gml(orc_main.G,f_out,stringizer=str)"
   ]
  },
  {
   "cell_type": "code",
   "execution_count": 14,
   "metadata": {
    "pycharm": {
     "name": "#%%\n"
    }
   },
   "outputs": [
    {
     "name": "stdout",
     "output_type": "stream",
     "text": [
      "Name: PhIBraun\n",
      "Type: Graph\n",
      "Number of nodes: 2657\n",
      "Number of edges: 5506\n",
      "Average degree:   4.1445\n",
      "0 AT1G05410 {'pathway': 'unknown', 'pathwayID': 0, 'known': 0, 'blockRicciMaxMod': 0, 'blockRicciFinal': 0}\n",
      "1 AT3G10140 {'pathway': 'unknown', 'pathwayID': 0, 'known': 0, 'blockRicciMaxMod': 0, 'blockRicciFinal': 0}\n",
      "2 AT3G54850 {'pathway': 'unknown', 'pathwayID': 0, 'known': 0, 'blockRicciMaxMod': 1, 'blockRicciFinal': 1}\n",
      "3 AT5G19010 {'pathway': 'signal transduction', 'pathwayID': 18, 'known': 0, 'blockRicciMaxMod': 1, 'blockRicciFinal': 1}\n",
      "4 AT3G07780 {'pathway': 'rna processing', 'pathwayID': 16, 'known': 0, 'blockRicciMaxMod': 2, 'blockRicciFinal': 2}\n",
      "5 AT5G66720 {'pathway': 'unknown', 'pathwayID': 0, 'known': 0, 'blockRicciMaxMod': 3, 'blockRicciFinal': 3}\n"
     ]
    }
   ],
   "source": [
    "g_orc = orc_main.G\n",
    "\n",
    "print(nx.info(g_orc))\n",
    "\n",
    "for idx, node in enumerate(g_orc.nodes()):\n",
    "    print(idx, node, g_orc.nodes[node])\n",
    "    if idx == 5:\n",
    "        break"
   ]
  },
  {
   "cell_type": "markdown",
   "metadata": {
    "pycharm": {
     "name": "#%% md\n"
    }
   },
   "source": [
    "#### Side Information"
   ]
  },
  {
   "cell_type": "code",
   "execution_count": 15,
   "metadata": {
    "scrolled": true,
    "pycharm": {
     "name": "#%%\n"
    }
   },
   "outputs": [],
   "source": [
    "g_orc = orc_main.G\n",
    "\n",
    "nodes_known = []\n",
    "\n",
    "for node in g_orc:\n",
    "    if g_orc.nodes[node]['pathway'] != 'unknown':\n",
    "        nodes_known.append(node)\n",
    "#     print(node, g_orc.nodes[node]['pathway'])\n",
    "# nodes_known"
   ]
  },
  {
   "cell_type": "code",
   "execution_count": 16,
   "metadata": {
    "pycharm": {
     "name": "#%%\n"
    }
   },
   "outputs": [
    {
     "name": "stdout",
     "output_type": "stream",
     "text": [
      "Using number of cpu threads: = 16\n",
      "\n",
      "\n",
      "FINAL RESULT\n",
      "========================================================\n",
      "Elapsed time: 2691.1548 (s)\n",
      "Number of iterations: 3126\n",
      "Number of communities detected: 645\n",
      "Size of largest community: 114\n",
      "List of component sizes (final): [7 3 5 3 4 2 5 4 14 5 2 11 6 4 114 9 6 9 5 7 3 41 4 10 3 1 3 3 7 2 4 3 1 68 20 2 15 5 16 5 3 7 3 26 2 18 3 3 12 3 13 5 3 3 27 3 6 5 3 10 2 4 5 2 7 73 12 4 7 7 4 3 33 2 6 4 4 8 4 5 2 6 3 4 7 4 3 6 8 3 8 6 8 3 18 4 1 6 5 5 2 5 3 7 2 6 3 3 3 4 4 5 2 7 9 3 8 2 5 3 1 3 7 3 5 7 1 5 3 4 4 2 5 2 10 6 3 4 3 3 4 2 3 5 4 3 10 2 6 3 2 3 4 3 3 3 3 3 3 5 5 5 5 2 10 3 4 5 3 3 4 3 3 1 5 5 4 3 7 8 5 3 3 8 3 3 2 3 4 2 3 2 4 2 2 3 4 31 3 2 3 2 5 1 6 4 8 3 3 5 9 7 2 3 3 4 5 3 2 2 5 3 4 3 2 2 2 2 3 7 3 3 3 4 6 2 4 2 8 2 6 2 5 3 4 3 2 2 4 3 4 3 15 5 4 4 4 2 5 1 3 2 2 2 2 3 4 4 4 3 2 6 3 2 5 4 2 5 4 4 2 3 2 3 6 6 3 3 3 3 2 5 3 7 4 3 5 4 3 2 5 2 7 4 2 4 3 4 3 3 1 2 4 2 2 4 3 2 4 3 4 4 4 2 3 4 5 2 2 4 2 6 5 12 19 3 3 5 3 4 3 3 5 2 5 3 3 3 3 6 2 3 2 2 2 2 4 4 4 3 2 2 4 2 10 3 2 3 4 4 3 2 3 3 3 1 4 1 3 9 3 4 5 1 6 3 4 2 5 4 2 2 4 2 3 3 4 2 4 2 2 4 2 3 10 5 2 2 5 3 7 17 3 4 7 2 7 8 3 3 2 2 5 4 3 3 5 3 3 5 3 2 2 4 1 3 2 2 2 3 2 4 2 3 2 2 4 2 3 3 3 2 3 3 1 1 2 2 3 3 2 3 3 3 2 2 2 2 6 4 4 3 2 2 3 3 3 4 2 3 4 3 5 3 2 3 2 3 2 2 3 2 3 3 1 2 3 3 2 2 3 2 2 2 2 2 1 3 2 2 2 2 1 8 2 1 1 3 3 2 2 2 1 1 3 4 4 3 1 3 2 3 2 2 2 1 2 2 3 2 1 3 2 1 2 2 2 3 2 1 3 1 2 3 2 2 2 2 1 2 1 3 2 4 3 3 2 2 2 2 2 2 3 3 2 2 1 1 2 2 1 2 2 2 2 2 2 1 2 1 1 2 2 2 4 1 1 1 2 1 2 2 2 2 2 1 2 2 1 2 2 2 2 2 3 2 3 2 1 1 1 2 1 2 2 1 1 2 1 2 2 2 2 1 1 2 1 2 1 2 1 1 3 2 2]\n",
      "MAXIMUM MODULARITY PARTITION RESULT\n",
      "========================================================\n",
      "Modularity: 0.5721\n",
      "Number of communities detected: 331\n",
      "List of component sizes (max mod): [30 207 224 5 91 24 9 2 11 74 332 19 17 144 3 1 89 6 1 8 54 16 26 14 33 5 12 13 13 44 6 3 10 33 4 10 5 6 3 4 10 8 8 3 1 10 5 15 2 3 4 7 9 14 6 1 10 1 11 2 10 3 5 5 31 6 6 4 3 19 7 13 10 5 1 8 5 3 2 7 2 4 2 3 31 2 3 2 1 12 4 3 9 9 2 3 6 2 3 3 4 9 3 2 7 13 4 4 5 1 2 2 2 2 6 3 3 3 5 2 4 13 3 3 1 2 2 4 3 3 4 3 15 4 12 19 3 5 3 6 2 6 4 3 2 2 4 2 10 5 3 1 1 3 9 4 1 2 2 2 3 4 4 2 10 7 2 7 3 5 4 1 3 2 2 3 5 4 3 7 8 3 1 1 2 3 3 2 2 2 4 4 2 2 3 7 2 3 4 3 2 2 2 3 3 3 1 3 3 3 2 2 2 1 3 2 2 2 1 8 1 1 2 2 2 1 1 4 3 1 3 2 3 2 2 1 2 1 3 2 1 2 2 3 2 1 3 1 2 2 2 2 1 1 2 4 3 2 2 2 2 2 3 3 2 1 1 2 2 1 2 2 2 2 1 2 1 1 2 2 4 1 1 1 2 1 2 2 2 2 2 1 2 2 1 2 2 2 2 2 3 2 3 2 1 1 1 2 1 2 2 1 1 2 1 2 2 2 2 1 1 2 1 2 1 2 1 1 3 2 2]\n",
      "\n"
     ]
    }
   ],
   "source": [
    "# f_in = \"../results/PhI_files/Braun/Braun.gml\"\n",
    "# print(f_in)\n",
    "\n",
    "orc_sinfo, partitions_list = orcci(g_orc, nodes_known=nodes_known, block_label=\"blockRicciSinfo\", sinfo_label=\"pathwayID\", verbose=\"ERROR\")"
   ]
  },
  {
   "cell_type": "code",
   "execution_count": 17,
   "metadata": {
    "pycharm": {
     "name": "#%%\n"
    }
   },
   "outputs": [
    {
     "name": "stdout",
     "output_type": "stream",
     "text": [
      "Name: PhIBraun\n",
      "Type: Graph\n",
      "Number of nodes: 2657\n",
      "Number of edges: 5506\n",
      "Average degree:   4.1445\n",
      "0 AT1G05410 {'pathway': 'unknown', 'pathwayID': 0, 'known': 0, 'blockRicciMaxMod': 0, 'blockRicciFinal': 0, 'blockRicciSinfoMaxMod': 0, 'blockRicciSinfoFinal': 0}\n",
      "1 AT3G10140 {'pathway': 'unknown', 'pathwayID': 0, 'known': 0, 'blockRicciMaxMod': 0, 'blockRicciFinal': 0, 'blockRicciSinfoMaxMod': 0, 'blockRicciSinfoFinal': 0}\n",
      "2 AT3G54850 {'pathway': 'unknown', 'pathwayID': 0, 'known': 0, 'blockRicciMaxMod': 1, 'blockRicciFinal': 1, 'blockRicciSinfoMaxMod': 1, 'blockRicciSinfoFinal': 1}\n",
      "3 AT5G19010 {'pathway': 'signal transduction', 'pathwayID': 18, 'known': 1, 'blockRicciMaxMod': 1, 'blockRicciFinal': 1, 'blockRicciSinfoMaxMod': 1, 'blockRicciSinfoFinal': 1}\n",
      "4 AT3G07780 {'pathway': 'rna processing', 'pathwayID': 16, 'known': 1, 'blockRicciMaxMod': 2, 'blockRicciFinal': 2, 'blockRicciSinfoMaxMod': 2, 'blockRicciSinfoFinal': 2}\n",
      "5 AT5G66720 {'pathway': 'unknown', 'pathwayID': 0, 'known': 0, 'blockRicciMaxMod': 3, 'blockRicciFinal': 3, 'blockRicciSinfoMaxMod': 3, 'blockRicciSinfoFinal': 3}\n"
     ]
    }
   ],
   "source": [
    "g_orc = orc_sinfo.G\n",
    "\n",
    "print(nx.info(g_orc))\n",
    "\n",
    "for idx, node in enumerate(g_orc.nodes()):\n",
    "    print(idx, node, g_orc.nodes[node])\n",
    "    if idx == 5:\n",
    "        break"
   ]
  },
  {
   "cell_type": "code",
   "execution_count": 18,
   "metadata": {
    "pycharm": {
     "name": "#%%\n"
    }
   },
   "outputs": [
    {
     "name": "stdout",
     "output_type": "stream",
     "text": [
      "../results/PhI_files/AI-1Main/Braun_sinfo.gml\n"
     ]
    }
   ],
   "source": [
    "# output .gml filename creation\n",
    "f_out = \"../results/PhI_files/AI-1Main/Braun_sinfo.gml\"\n",
    "\n",
    "print(f_out)\n",
    "nx.write_gml(orc_sinfo.G,f_out,stringizer=str)"
   ]
  }
 ],
 "metadata": {
  "kernelspec": {
   "display_name": "Python 3",
   "language": "python",
   "name": "python3"
  },
  "language_info": {
   "codemirror_mode": {
    "name": "ipython",
    "version": 3
   },
   "file_extension": ".py",
   "mimetype": "text/x-python",
   "name": "python",
   "nbconvert_exporter": "python",
   "pygments_lexer": "ipython3",
   "version": "3.8.5"
  }
 },
 "nbformat": 4,
 "nbformat_minor": 4
}