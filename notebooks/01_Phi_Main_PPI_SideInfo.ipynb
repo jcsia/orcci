{
 "cells": [
  {
   "cell_type": "markdown",
   "metadata": {
    "pycharm": {
     "name": "#%% md\n"
    }
   },
   "source": [
    "# PhI Main PPI network analysis"
   ]
  },
  {
   "cell_type": "code",
   "execution_count": 1,
   "metadata": {
    "pycharm": {
     "name": "#%%\n"
    }
   },
   "outputs": [
    {
     "data": {
      "text/html": "\n\t\t\t<script type=\"text/javascript\">\n\t\t\t<!--\n\t\t\t\t\n\t\t\t{\n\t\t\t\tvar element = document.getElementById('NetworKit_script');\n\t\t\t\tif (element) {\n\t\t\t\t\telement.parentNode.removeChild(element);\n\t\t\t\t}\n\t\t\t\telement = document.createElement('script');\n\t\t\t\telement.type = 'text/javascript';\n\t\t\t\telement.innerHTML = 'function NetworKit_pageEmbed(id) { var i, j; var elements; elements = document.getElementById(id).getElementsByClassName(\"Plot\"); for (i=0; i<elements.length; i++) { elements[i].id = id + \"_Plot_\" + i; var data = elements[i].getAttribute(\"data-image\").split(\"|\"); elements[i].removeAttribute(\"data-image\"); var content = \"<div class=\\\\\"Image\\\\\" id=\\\\\"\" + elements[i].id + \"_Image\\\\\" />\"; elements[i].innerHTML = content; elements[i].setAttribute(\"data-image-index\", 0); elements[i].setAttribute(\"data-image-length\", data.length); for (j=0; j<data.length; j++) { elements[i].setAttribute(\"data-image-\" + j, data[j]); } NetworKit_plotUpdate(elements[i]); elements[i].onclick = function (e) { NetworKit_overlayShow((e.target) ? e.target : e.srcElement); } } elements = document.getElementById(id).getElementsByClassName(\"HeatCell\"); for (i=0; i<elements.length; i++) { var data = parseFloat(elements[i].getAttribute(\"data-heat\")); var color = \"#00FF00\"; if (data <= 1 && data > 0) { color = \"hsla(0, 100%, 75%, \" + (data) + \")\"; } else if (data <= 0 && data >= -1) { color = \"hsla(240, 100%, 75%, \" + (-data) + \")\"; } elements[i].style.backgroundColor = color; } elements = document.getElementById(id).getElementsByClassName(\"Details\"); for (i=0; i<elements.length; i++) { elements[i].setAttribute(\"data-title\", \"-\"); NetworKit_toggleDetails(elements[i]); elements[i].onclick = function (e) { NetworKit_toggleDetails((e.target) ? e.target : e.srcElement); } } elements = document.getElementById(id).getElementsByClassName(\"MathValue\"); for (i=elements.length-1; i>=0; i--) { value = elements[i].innerHTML.trim(); if (value === \"nan\") { elements[i].parentNode.innerHTML = \"\" } } elements = document.getElementById(id).getElementsByClassName(\"SubCategory\"); for (i=elements.length-1; i>=0; i--) { value = elements[i].innerHTML.trim(); if (value === \"\") { elements[i].parentNode.removeChild(elements[i]) } } elements = document.getElementById(id).getElementsByClassName(\"Category\"); for (i=elements.length-1; i>=0; i--) { value = elements[i].innerHTML.trim(); if (value === \"\") { elements[i].parentNode.removeChild(elements[i]) } } var isFirefox = false; try { isFirefox = typeof InstallTrigger !== \"undefined\"; } catch (e) {} if (!isFirefox) { alert(\"Currently the function\\'s output is only fully supported by Firefox.\"); } } function NetworKit_plotUpdate(source) { var index = source.getAttribute(\"data-image-index\"); var data = source.getAttribute(\"data-image-\" + index); var image = document.getElementById(source.id + \"_Image\"); image.style.backgroundImage = \"url(\" + data + \")\"; } function NetworKit_showElement(id, show) { var element = document.getElementById(id); element.style.display = (show) ? \"block\" : \"none\"; } function NetworKit_overlayShow(source) { NetworKit_overlayUpdate(source); NetworKit_showElement(\"NetworKit_Overlay\", true); } function NetworKit_overlayUpdate(source) { document.getElementById(\"NetworKit_Overlay_Title\").innerHTML = source.title; var index = source.getAttribute(\"data-image-index\"); var data = source.getAttribute(\"data-image-\" + index); var image = document.getElementById(\"NetworKit_Overlay_Image\"); image.setAttribute(\"data-id\", source.id); image.style.backgroundImage = \"url(\" + data + \")\"; var link = document.getElementById(\"NetworKit_Overlay_Toolbar_Bottom_Save\"); link.href = data; link.download = source.title + \".svg\"; } function NetworKit_overlayImageShift(delta) { var image = document.getElementById(\"NetworKit_Overlay_Image\"); var source = document.getElementById(image.getAttribute(\"data-id\")); var index = parseInt(source.getAttribute(\"data-image-index\")); var length = parseInt(source.getAttribute(\"data-image-length\")); var index = (index+delta) % length; if (index < 0) { index = length + index; } source.setAttribute(\"data-image-index\", index); NetworKit_overlayUpdate(source); } function NetworKit_toggleDetails(source) { var childs = source.children; var show = false; if (source.getAttribute(\"data-title\") == \"-\") { source.setAttribute(\"data-title\", \"+\"); show = false; } else { source.setAttribute(\"data-title\", \"-\"); show = true; } for (i=0; i<childs.length; i++) { if (show) { childs[i].style.display = \"block\"; } else { childs[i].style.display = \"none\"; } } }';\n\t\t\t\telement.setAttribute('id', 'NetworKit_script');\n\t\t\t\tdocument.head.appendChild(element);\n\t\t\t}\n\t\t\n\t\t\t\t\n\t\t\t{\n\t\t\t\tvar element = document.getElementById('NetworKit_style');\n\t\t\t\tif (element) {\n\t\t\t\t\telement.parentNode.removeChild(element);\n\t\t\t\t}\n\t\t\t\telement = document.createElement('style');\n\t\t\t\telement.type = 'text/css';\n\t\t\t\telement.innerHTML = '.NetworKit_Page { font-family: Arial, Helvetica, sans-serif; font-size: 14px; } .NetworKit_Page .Value:before { font-family: Arial, Helvetica, sans-serif; font-size: 1.05em; content: attr(data-title) \":\"; margin-left: -2.5em; padding-right: 0.5em; } .NetworKit_Page .Details .Value:before { display: block; } .NetworKit_Page .Value { font-family: monospace; white-space: pre; padding-left: 2.5em; white-space: -moz-pre-wrap !important; white-space: -pre-wrap; white-space: -o-pre-wrap; white-space: pre-wrap; word-wrap: break-word; tab-size: 4; -moz-tab-size: 4; } .NetworKit_Page .Category { clear: both; padding-left: 1em; margin-bottom: 1.5em; } .NetworKit_Page .Category:before { content: attr(data-title); font-size: 1.75em; display: block; margin-left: -0.8em; margin-bottom: 0.5em; } .NetworKit_Page .SubCategory { margin-bottom: 1.5em; padding-left: 1em; } .NetworKit_Page .SubCategory:before { font-size: 1.6em; display: block; margin-left: -0.8em; margin-bottom: 0.5em; } .NetworKit_Page .SubCategory[data-title]:before { content: attr(data-title); } .NetworKit_Page .Block { display: block; } .NetworKit_Page .Block:after { content: \".\"; visibility: hidden; display: block; height: 0; clear: both; } .NetworKit_Page .Block .Thumbnail_Overview, .NetworKit_Page .Block .Thumbnail_ScatterPlot { width: 260px; float: left; } .NetworKit_Page .Block .Thumbnail_Overview img, .NetworKit_Page .Block .Thumbnail_ScatterPlot img { width: 260px; } .NetworKit_Page .Block .Thumbnail_Overview:before, .NetworKit_Page .Block .Thumbnail_ScatterPlot:before { display: block; text-align: center; font-weight: bold; } .NetworKit_Page .Block .Thumbnail_Overview:before { content: attr(data-title); } .NetworKit_Page .HeatCell { font-family: \"Courier New\", Courier, monospace; cursor: pointer; } .NetworKit_Page .HeatCell, .NetworKit_Page .HeatCellName { display: inline; padding: 0.1em; margin-right: 2px; background-color: #FFFFFF } .NetworKit_Page .HeatCellName { margin-left: 0.25em; } .NetworKit_Page .HeatCell:before { content: attr(data-heat); display: inline-block; color: #000000; width: 4em; text-align: center; } .NetworKit_Page .Measure { clear: both; } .NetworKit_Page .Measure .Details { cursor: pointer; } .NetworKit_Page .Measure .Details:before { content: \"[\" attr(data-title) \"]\"; display: block; } .NetworKit_Page .Measure .Details .Value { border-left: 1px dotted black; margin-left: 0.4em; padding-left: 3.5em; pointer-events: none; } .NetworKit_Page .Measure .Details .Spacer:before { content: \".\"; opacity: 0.0; pointer-events: none; } .NetworKit_Page .Measure .Plot { width: 440px; height: 440px; cursor: pointer; float: left; margin-left: -0.9em; margin-right: 20px; } .NetworKit_Page .Measure .Plot .Image { background-repeat: no-repeat; background-position: center center; background-size: contain; height: 100%; pointer-events: none; } .NetworKit_Page .Measure .Stat { width: 500px; float: left; } .NetworKit_Page .Measure .Stat .Group { padding-left: 1.25em; margin-bottom: 0.75em; } .NetworKit_Page .Measure .Stat .Group .Title { font-size: 1.1em; display: block; margin-bottom: 0.3em; margin-left: -0.75em; border-right-style: dotted; border-right-width: 1px; border-bottom-style: dotted; border-bottom-width: 1px; background-color: #D0D0D0; padding-left: 0.2em; } .NetworKit_Page .Measure .Stat .Group .List { -webkit-column-count: 3; -moz-column-count: 3; column-count: 3; } .NetworKit_Page .Measure .Stat .Group .List .Entry { position: relative; line-height: 1.75em; } .NetworKit_Page .Measure .Stat .Group .List .Entry[data-tooltip]:before { position: absolute; left: 0; top: -40px; background-color: #808080; color: #ffffff; height: 30px; line-height: 30px; border-radius: 5px; padding: 0 15px; content: attr(data-tooltip); white-space: nowrap; display: none; } .NetworKit_Page .Measure .Stat .Group .List .Entry[data-tooltip]:after { position: absolute; left: 15px; top: -10px; border-top: 7px solid #808080; border-left: 7px solid transparent; border-right: 7px solid transparent; content: \"\"; display: none; } .NetworKit_Page .Measure .Stat .Group .List .Entry[data-tooltip]:hover:after, .NetworKit_Page .Measure .Stat .Group .List .Entry[data-tooltip]:hover:before { display: block; } .NetworKit_Page .Measure .Stat .Group .List .Entry .MathValue { font-family: \"Courier New\", Courier, monospace; } .NetworKit_Page .Measure:after { content: \".\"; visibility: hidden; display: block; height: 0; clear: both; } .NetworKit_Page .PartitionPie { clear: both; } .NetworKit_Page .PartitionPie img { width: 600px; } #NetworKit_Overlay { left: 0px; top: 0px; display: none; position: absolute; width: 100%; height: 100%; background-color: rgba(0,0,0,0.6); z-index: 1000; } #NetworKit_Overlay_Title { position: absolute; color: white; transform: rotate(-90deg); width: 32em; height: 32em; padding-right: 0.5em; padding-top: 0.5em; text-align: right; font-size: 40px; } #NetworKit_Overlay .button { background: white; cursor: pointer; } #NetworKit_Overlay .button:before { size: 13px; display: inline-block; text-align: center; margin-top: 0.5em; margin-bottom: 0.5em; width: 1.5em; height: 1.5em; } #NetworKit_Overlay .icon-close:before { content: \"X\"; } #NetworKit_Overlay .icon-previous:before { content: \"P\"; } #NetworKit_Overlay .icon-next:before { content: \"N\"; } #NetworKit_Overlay .icon-save:before { content: \"S\"; } #NetworKit_Overlay_Toolbar_Top, #NetworKit_Overlay_Toolbar_Bottom { position: absolute; width: 40px; right: 13px; text-align: right; z-index: 1100; } #NetworKit_Overlay_Toolbar_Top { top: 0.5em; } #NetworKit_Overlay_Toolbar_Bottom { Bottom: 0.5em; } #NetworKit_Overlay_ImageContainer { position: absolute; top: 5%; left: 5%; height: 90%; width: 90%; background-repeat: no-repeat; background-position: center center; background-size: contain; } #NetworKit_Overlay_Image { height: 100%; width: 100%; background-repeat: no-repeat; background-position: center center; background-size: contain; }';\n\t\t\t\telement.setAttribute('id', 'NetworKit_style');\n\t\t\t\tdocument.head.appendChild(element);\n\t\t\t}\n\t\t\n\t\t\t\t\n\t\t\t{\n\t\t\t\tvar element = document.getElementById('NetworKit_Overlay');\n\t\t\t\tif (element) {\n\t\t\t\t\telement.parentNode.removeChild(element);\n\t\t\t\t}\n\t\t\t\telement = document.createElement('div');\n\t\t\t\telement.innerHTML = '<div id=\"NetworKit_Overlay_Toolbar_Top\"><div class=\"button icon-close\" id=\"NetworKit_Overlay_Close\" /></div><div id=\"NetworKit_Overlay_Title\" /> <div id=\"NetworKit_Overlay_ImageContainer\"> <div id=\"NetworKit_Overlay_Image\" /> </div> <div id=\"NetworKit_Overlay_Toolbar_Bottom\"> <div class=\"button icon-previous\" onclick=\"NetworKit_overlayImageShift(-1)\" /> <div class=\"button icon-next\" onclick=\"NetworKit_overlayImageShift(1)\" /> <a id=\"NetworKit_Overlay_Toolbar_Bottom_Save\"><div class=\"button icon-save\" /></a> </div>';\n\t\t\t\telement.setAttribute('id', 'NetworKit_Overlay');\n\t\t\t\tdocument.body.appendChild(element);\n\t\t\t\tdocument.getElementById('NetworKit_Overlay_Close').onclick = function (e) {\n\t\t\t\t\tdocument.getElementById('NetworKit_Overlay').style.display = 'none';\n\t\t\t\t}\n\t\t\t}\n\t\t\n\t\t\t-->\n\t\t\t</script>\n\t\t"
     },
     "metadata": {},
     "output_type": "display_data"
    }
   ],
   "source": [
    "%matplotlib inline\n",
    "\n",
    "import sys; sys.path.insert(0, \"..\")\n",
    "\n",
    "import numpy as np\n",
    "import pandas as pd\n",
    "import networkx as nx\n",
    "import matplotlib.pyplot as plt\n",
    "\n",
    "import collections\n",
    "from math import log\n",
    "\n",
    "# import time\n",
    "import pickle\n",
    "\n",
    "# from random import sample\n",
    "from communityDetection.orcci import *\n",
    "# from genex.pobsnet_sinfo import *"
   ]
  },
  {
   "cell_type": "code",
   "execution_count": 2,
   "metadata": {
    "pycharm": {
     "name": "#%%\n"
    }
   },
   "outputs": [
    {
     "data": {
      "text/plain": "        IntA       IntB  PhIMAIN\n0  AT1G01030  AT3G17600        1\n1  AT1G01140  AT2G23290        1\n2  AT1G01360  AT4G26080        1\n3  AT1G04100  AT1G15050        1\n4  AT1G04100  AT2G33310        1",
      "text/html": "<div>\n<style scoped>\n    .dataframe tbody tr th:only-of-type {\n        vertical-align: middle;\n    }\n\n    .dataframe tbody tr th {\n        vertical-align: top;\n    }\n\n    .dataframe thead th {\n        text-align: right;\n    }\n</style>\n<table border=\"1\" class=\"dataframe\">\n  <thead>\n    <tr style=\"text-align: right;\">\n      <th></th>\n      <th>IntA</th>\n      <th>IntB</th>\n      <th>PhIMAIN</th>\n    </tr>\n  </thead>\n  <tbody>\n    <tr>\n      <th>0</th>\n      <td>AT1G01030</td>\n      <td>AT3G17600</td>\n      <td>1</td>\n    </tr>\n    <tr>\n      <th>1</th>\n      <td>AT1G01140</td>\n      <td>AT2G23290</td>\n      <td>1</td>\n    </tr>\n    <tr>\n      <th>2</th>\n      <td>AT1G01360</td>\n      <td>AT4G26080</td>\n      <td>1</td>\n    </tr>\n    <tr>\n      <th>3</th>\n      <td>AT1G04100</td>\n      <td>AT1G15050</td>\n      <td>1</td>\n    </tr>\n    <tr>\n      <th>4</th>\n      <td>AT1G04100</td>\n      <td>AT2G33310</td>\n      <td>1</td>\n    </tr>\n  </tbody>\n</table>\n</div>"
     },
     "execution_count": 2,
     "metadata": {},
     "output_type": "execute_result"
    }
   ],
   "source": [
    "verbose = \"TRACE\"\n",
    "\n",
    "filename = \"../data/PhIMain/PhIMain.xlsx\"\n",
    "\n",
    "df = pd.read_excel(filename)\n",
    "df.head()"
   ]
  },
  {
   "cell_type": "code",
   "execution_count": 3,
   "metadata": {
    "pycharm": {
     "name": "#%%\n"
    }
   },
   "outputs": [],
   "source": [
    "gene1_label = \"IntA\"\n",
    "gene2_label = \"IntB\"\n",
    "g = nx.from_pandas_edgelist(df,source=gene1_label,target=gene2_label)\n",
    "g.name = 'PhIMain'"
   ]
  },
  {
   "cell_type": "code",
   "execution_count": 4,
   "metadata": {
    "pycharm": {
     "name": "#%%\n"
    }
   },
   "outputs": [
    {
     "name": "stdout",
     "output_type": "stream",
     "text": [
      "Name: PhIMain\n",
      "Type: Graph\n",
      "Number of nodes: 273\n",
      "Number of edges: 529\n",
      "Average degree:   3.8755\n",
      "Number of connected components: 17 \n",
      "\n",
      "<<< Without self loops >>>\n",
      "Name: PhIMain\n",
      "Type: Graph\n",
      "Number of nodes: 273\n",
      "Number of edges: 495\n",
      "Average degree:   3.6264\n",
      "Number of self loops: 34\n",
      "Top 5 highest degree nodes: [('AT1G35560', 43), ('AT1G31880', 26), ('AT2G01760', 22), ('AT4G37260', 19), ('AT4G32570', 17)]\n"
     ]
    }
   ],
   "source": [
    "print(nx.info(g))\n",
    "print(\"Number of connected components:\", nx.number_connected_components(g), \"\\n\")\n",
    "\n",
    "edge_selfloops = [e1 for e1, e2 in nx.selfloop_edges(g)]\n",
    "g.remove_edges_from(nx.selfloop_edges(g))\n",
    "\n",
    "print(\"<<< Without self loops >>>\")\n",
    "print(nx.info(g))\n",
    "print(\"Number of self loops:\", len(edge_selfloops))\n",
    "\n",
    "# degree list\n",
    "degree_list = sorted(g.degree, key=lambda x: x[1], reverse=True)\n",
    "print(\"Top 5 highest degree nodes:\", degree_list[0:5])"
   ]
  },
  {
   "cell_type": "code",
   "execution_count": 5,
   "metadata": {
    "pycharm": {
     "name": "#%%\n"
    }
   },
   "outputs": [
    {
     "data": {
      "text/plain": "Text(0.5, 0, 'Degree')"
     },
     "execution_count": 5,
     "metadata": {},
     "output_type": "execute_result"
    },
    {
     "data": {
      "text/plain": "<Figure size 432x288 with 1 Axes>",
      "image/png": "[encoded data removed]"
     },
     "metadata": {},
     "output_type": "display_data"
    }
   ],
   "source": [
    "degree_sequence = sorted([d for n, d in g.degree()], reverse=True)  # degree sequence\n",
    "degreeCount = collections.Counter(degree_sequence)\n",
    "deg, cnt = zip(*degreeCount.items())\n",
    "\n",
    "fig, ax = plt.subplots()\n",
    "plt.bar(deg, cnt, width=0.80, color=\"b\")\n",
    "plt.title(\"Degree Histogram\")\n",
    "plt.ylabel(\"Count\")\n",
    "plt.xlabel(\"Degree\")\n",
    "# ax.set_xticks([d + 0.4 for d in deg])\n",
    "# ax.set_xticklabels(deg)"
   ]
  },
  {
   "cell_type": "code",
   "execution_count": 6,
   "metadata": {
    "pycharm": {
     "name": "#%%\n"
    }
   },
   "outputs": [
    {
     "name": "stdout",
     "output_type": "stream",
     "text": [
      "0 AT1G01030 {}\n",
      "1 AT3G17600 {}\n",
      "2 AT1G01140 {}\n",
      "3 AT2G23290 {}\n",
      "4 AT1G01360 {}\n",
      "5 AT4G26080 {}\n",
      "0 ('AT1G01030', 'AT3G17600') {}\n",
      "1 ('AT3G17600', 'AT2G01760') {}\n",
      "2 ('AT3G17600', 'AT2G28350') {}\n",
      "3 ('AT3G17600', 'AT2G38490') {}\n",
      "4 ('AT3G17600', 'AT3G15540') {}\n",
      "5 ('AT3G17600', 'AT4G30080') {}\n"
     ]
    }
   ],
   "source": [
    "for idx, node in enumerate(g.nodes()):\n",
    "    print(idx, node, g.nodes[node])\n",
    "    if idx == 5:\n",
    "        break\n",
    "    \n",
    "for idx, edge in enumerate(g.edges()):\n",
    "    print(idx, edge, g.edges[edge])\n",
    "    if idx == 5:\n",
    "        break"
   ]
  },
  {
   "cell_type": "markdown",
   "metadata": {
    "pycharm": {
     "name": "#%% md\n"
    }
   },
   "source": [
    "### ORCCI"
   ]
  },
  {
   "cell_type": "code",
   "execution_count": 7,
   "metadata": {
    "scrolled": true,
    "pycharm": {
     "name": "#%%\n"
    }
   },
   "outputs": [
    {
     "name": "stdout",
     "output_type": "stream",
     "text": [
      "Using number of cpu threads: = 16\n",
      "\n",
      "Partition splits\n",
      "========================================================\n",
      "iteration: 26,\t #components: 18,\t max_component_size: 241,\t modularity: 0.0594\n",
      "iteration: 59,\t #components: 19,\t max_component_size: 238,\t modularity: 0.0670\n",
      "iteration: 69,\t #components: 20,\t max_component_size: 219,\t modularity: 0.1984\n",
      "iteration: 121,\t #components: 21,\t max_component_size: 207,\t modularity: 0.2378\n",
      "iteration: 132,\t #components: 22,\t max_component_size: 190,\t modularity: 0.2875\n",
      "iteration: 134,\t #components: 23,\t max_component_size: 190,\t modularity: 0.2849\n",
      "iteration: 139,\t #components: 24,\t max_component_size: 190,\t modularity: 0.2831\n",
      "iteration: 141,\t #components: 25,\t max_component_size: 182,\t modularity: 0.3017\n",
      "iteration: 143,\t #components: 26,\t max_component_size: 166,\t modularity: 0.4055\n",
      "iteration: 147,\t #components: 27,\t max_component_size: 122,\t modularity: 0.5219\n",
      "iteration: 148,\t #components: 28,\t max_component_size: 96,\t modularity: 0.5580\n",
      "iteration: 149,\t #components: 29,\t max_component_size: 51,\t modularity: 0.5872\n",
      "iteration: 158,\t #components: 30,\t max_component_size: 51,\t modularity: 0.5833\n",
      "iteration: 163,\t #components: 31,\t max_component_size: 44,\t modularity: 0.5910\n",
      "iteration: 164,\t #components: 32,\t max_component_size: 44,\t modularity: 0.5865\n",
      "iteration: 165,\t #components: 33,\t max_component_size: 44,\t modularity: 0.5849\n",
      "iteration: 166,\t #components: 34,\t max_component_size: 44,\t modularity: 0.5841\n",
      "iteration: 167,\t #components: 35,\t max_component_size: 44,\t modularity: 0.5822\n",
      "iteration: 168,\t #components: 36,\t max_component_size: 42,\t modularity: 0.5904\n",
      "iteration: 173,\t #components: 37,\t max_component_size: 40,\t modularity: 0.5867\n",
      "iteration: 174,\t #components: 38,\t max_component_size: 38,\t modularity: 0.5846\n",
      "iteration: 177,\t #components: 39,\t max_component_size: 35,\t modularity: 0.5826\n",
      "iteration: 178,\t #components: 40,\t max_component_size: 35,\t modularity: 0.5811\n",
      "iteration: 179,\t #components: 41,\t max_component_size: 35,\t modularity: 0.5804\n",
      "iteration: 180,\t #components: 42,\t max_component_size: 35,\t modularity: 0.5790\n",
      "iteration: 181,\t #components: 43,\t max_component_size: 35,\t modularity: 0.5749\n",
      "iteration: 182,\t #components: 44,\t max_component_size: 35,\t modularity: 0.5762\n",
      "iteration: 188,\t #components: 45,\t max_component_size: 35,\t modularity: 0.5724\n",
      "iteration: 192,\t #components: 46,\t max_component_size: 27,\t modularity: 0.5664\n",
      "iteration: 194,\t #components: 47,\t max_component_size: 23,\t modularity: 0.5609\n",
      "iteration: 196,\t #components: 48,\t max_component_size: 23,\t modularity: 0.5592\n",
      "iteration: 197,\t #components: 49,\t max_component_size: 23,\t modularity: 0.5574\n",
      "iteration: 198,\t #components: 50,\t max_component_size: 23,\t modularity: 0.5556\n",
      "iteration: 199,\t #components: 51,\t max_component_size: 23,\t modularity: 0.5524\n",
      "iteration: 200,\t #components: 52,\t max_component_size: 23,\t modularity: 0.5496\n",
      "iteration: 201,\t #components: 53,\t max_component_size: 23,\t modularity: 0.5483\n",
      "iteration: 205,\t #components: 54,\t max_component_size: 21,\t modularity: 0.5443\n",
      "iteration: 209,\t #components: 55,\t max_component_size: 19,\t modularity: 0.5434\n",
      "iteration: 210,\t #components: 56,\t max_component_size: 19,\t modularity: 0.5386\n",
      "iteration: 212,\t #components: 57,\t max_component_size: 17,\t modularity: 0.5335\n",
      "iteration: 213,\t #components: 58,\t max_component_size: 17,\t modularity: 0.5322\n",
      "iteration: 214,\t #components: 59,\t max_component_size: 17,\t modularity: 0.5303\n",
      "iteration: 215,\t #components: 60,\t max_component_size: 17,\t modularity: 0.5291\n",
      "iteration: 216,\t #components: 61,\t max_component_size: 17,\t modularity: 0.5273\n",
      "iteration: 217,\t #components: 62,\t max_component_size: 17,\t modularity: 0.5255\n",
      "iteration: 218,\t #components: 63,\t max_component_size: 17,\t modularity: 0.5241\n",
      "iteration: 219,\t #components: 64,\t max_component_size: 17,\t modularity: 0.5223\n",
      "iteration: 220,\t #components: 65,\t max_component_size: 17,\t modularity: 0.5204\n",
      "iteration: 221,\t #components: 66,\t max_component_size: 17,\t modularity: 0.5185\n",
      "iteration: 222,\t #components: 67,\t max_component_size: 17,\t modularity: 0.5152\n",
      "iteration: 223,\t #components: 68,\t max_component_size: 17,\t modularity: 0.5134\n",
      "iteration: 224,\t #components: 69,\t max_component_size: 17,\t modularity: 0.5116\n",
      "iteration: 225,\t #components: 70,\t max_component_size: 17,\t modularity: 0.5097\n",
      "iteration: 230,\t #components: 71,\t max_component_size: 16,\t modularity: 0.5012\n",
      "iteration: 232,\t #components: 72,\t max_component_size: 16,\t modularity: 0.4978\n",
      "iteration: 233,\t #components: 73,\t max_component_size: 16,\t modularity: 0.4954\n",
      "iteration: 235,\t #components: 74,\t max_component_size: 16,\t modularity: 0.4916\n",
      "iteration: 241,\t #components: 75,\t max_component_size: 16,\t modularity: 0.4816\n",
      "\n",
      "FINAL RESULT\n",
      "========================================================\n",
      "Elapsed time: 32.8653 (s)\n",
      "Number of iterations: 244\n",
      "Number of communities detected: 75\n",
      "Size of largest community: 16\n",
      "List of component sizes (final): [3 9 9 16 5 2 7 4 6 3 3 4 4 4 7 6 8 3 2 6 1 6 7 3 5 7 4 3 3 4 4 3 2 2 2 2 1 1 5 3 2 8 2 2 3 3 3 9 3 3 6 3 2 2 2 1 2 2 2 2 2 2 3 3 2 2 1 2 2 2 3 2 2 2 2]\n",
      "MAXIMUM MODULARITY PARTITION RESULT\n",
      "========================================================\n",
      "Modularity: 0.5910\n",
      "Number of communities detected: 31\n",
      "List of component sizes (max mod): [35 44 19 16 42 26 16 8 1 6 5 12 3 1 1 9 2 2 2 1 2 2 2 3 2 1 2 2 2 2 2]\n",
      "\n"
     ]
    }
   ],
   "source": [
    "orc_main_noinfo, partitions_list = orcci(g,verbose=\"INFO\")"
   ]
  },
  {
   "cell_type": "code",
   "execution_count": 8,
   "metadata": {
    "pycharm": {
     "name": "#%%\n"
    }
   },
   "outputs": [
    {
     "name": "stdout",
     "output_type": "stream",
     "text": [
      "0 AT1G01030 {'blockRicciMaxMod': 0, 'blockRicciFinal': 0}\n",
      "1 AT3G17600 {'blockRicciMaxMod': 0, 'blockRicciFinal': 0}\n",
      "2 AT1G01140 {'blockRicciMaxMod': 1, 'blockRicciFinal': 1}\n",
      "3 AT2G23290 {'blockRicciMaxMod': 1, 'blockRicciFinal': 1}\n",
      "4 AT1G01360 {'blockRicciMaxMod': 2, 'blockRicciFinal': 2}\n",
      "5 AT4G26080 {'blockRicciMaxMod': 2, 'blockRicciFinal': 2}\n",
      "0 ('AT1G01030', 'AT3G17600') {'weight': 1.0, 'ricciCurvature': 1.999999979396261e-05}\n",
      "1 ('AT3G17600', 'AT2G01760') {'weight': 1.0, 'ricciCurvature': -1.1364272081853386}\n",
      "2 ('AT3G17600', 'AT2G28350') {'weight': 1.0, 'ricciCurvature': 1.9999999793851586e-05}\n",
      "3 ('AT3G17600', 'AT2G38490') {'weight': 1.0, 'ricciCurvature': -1.0000414492231098}\n",
      "4 ('AT3G17600', 'AT3G15540') {'weight': 1.0, 'ricciCurvature': -1.1334575106713105}\n",
      "5 ('AT3G17600', 'AT4G30080') {'weight': 1.0, 'ricciCurvature': -0.500017693377572}\n"
     ]
    }
   ],
   "source": [
    "g_orc = orc_main_noinfo.G\n",
    "for idx, node in enumerate(g_orc.nodes()):\n",
    "    print(idx, node, g_orc.nodes[node])\n",
    "    if idx == 5:\n",
    "        break\n",
    "    \n",
    "for idx, edge in enumerate(g_orc.edges()):\n",
    "    print(idx, edge, g_orc.edges[edge])\n",
    "    if idx == 5:\n",
    "        break"
   ]
  },
  {
   "cell_type": "markdown",
   "metadata": {
    "pycharm": {
     "name": "#%% md\n"
    }
   },
   "source": [
    "### Write to file"
   ]
  },
  {
   "cell_type": "code",
   "execution_count": 9,
   "metadata": {
    "pycharm": {
     "name": "#%%\n"
    }
   },
   "outputs": [],
   "source": [
    "# Saving the objects:\n",
    "pickle_file = \"../results/ppi/ppi_main.pickle\"\n",
    "with open(pickle_file, 'wb') as f:  # Python 3: open(..., 'wb')\n",
    "    pickle.dump([orc_main_noinfo, partitions_list], f)\n",
    "f.close()\n",
    "\n",
    "file = \"../results/ppi/ppi_main.gml\"\n",
    "nx.write_gml(g_orc,file)"
   ]
  },
  {
   "cell_type": "code",
   "execution_count": 10,
   "metadata": {
    "pycharm": {
     "name": "#%%\n"
    }
   },
   "outputs": [
    {
     "name": "stdout",
     "output_type": "stream",
     "text": [
      "Name: PhIMain\n",
      "Type: Graph\n",
      "Number of nodes: 273\n",
      "Number of edges: 495\n",
      "Average degree:   3.6264\n"
     ]
    }
   ],
   "source": [
    "# Getting back the objects:\n",
    "pickle_file = \"../results/ppi/ppi_main.pickle\"\n",
    "with open(pickle_file,'rb') as f:  # Python 3: open(..., 'rb')\n",
    "    orc_noinfo, partitions_list = pickle.load(f)\n",
    "f.close()\n",
    "\n",
    "print(nx.info(orc_noinfo.G))\n",
    "# for node in orc_noinfo.G.nodes():\n",
    "#     print(orc_noinfo.G.nodes[node])"
   ]
  },
  {
   "cell_type": "markdown",
   "metadata": {
    "pycharm": {
     "name": "#%% md\n"
    }
   },
   "source": [
    "#### Community detection on the largest component"
   ]
  },
  {
   "cell_type": "code",
   "execution_count": 11,
   "metadata": {
    "scrolled": true,
    "pycharm": {
     "name": "#%%\n"
    }
   },
   "outputs": [
    {
     "name": "stdout",
     "output_type": "stream",
     "text": [
      "Name: PhIMain\n",
      "Type: Graph\n",
      "Number of nodes: 246\n",
      "Number of edges: 484\n",
      "Average degree:   3.9350\n",
      "Top 5 highest degree nodes: [('AT1G35560', 43), ('AT1G31880', 26), ('AT2G01760', 22), ('AT4G37260', 19), ('AT4G32570', 17)]\n"
     ]
    }
   ],
   "source": [
    "# only get the largest component\n",
    "largest_cc = max(nx.connected_components(g), key=len)\n",
    "G = g.subgraph(largest_cc)\n",
    "G = nx.Graph(G) # unfreeze graph\n",
    "print(nx.info(G))\n",
    "\n",
    "degree_list = sorted(G.degree, key=lambda x: x[1], reverse=True)\n",
    "print(\"Top 5 highest degree nodes:\", degree_list[0:5])\n",
    "\n",
    "# draw the network\n",
    "# nx.draw_kamada_kawai(G)"
   ]
  },
  {
   "cell_type": "code",
   "execution_count": 12,
   "metadata": {
    "pycharm": {
     "name": "#%%\n"
    }
   },
   "outputs": [
    {
     "data": {
      "text/plain": "Text(0.5, 0, 'Degree')"
     },
     "execution_count": 12,
     "metadata": {},
     "output_type": "execute_result"
    },
    {
     "data": {
      "text/plain": "<Figure size 432x288 with 1 Axes>",
      "image/png": "[encoded data removed]"
     },
     "metadata": {},
     "output_type": "display_data"
    }
   ],
   "source": [
    "degree_sequence = sorted([d for n, d in G.degree()], reverse=True)  # degree sequence\n",
    "degreeCount = collections.Counter(degree_sequence)\n",
    "deg, cnt = zip(*degreeCount.items())\n",
    "\n",
    "fig, ax = plt.subplots()\n",
    "plt.bar(deg, cnt, width=0.80, color=\"b\")\n",
    "plt.title(\"Degree Histogram\")\n",
    "plt.ylabel(\"Count\")\n",
    "plt.xlabel(\"Degree\")\n",
    "# ax.set_xticks([d + 0.4 for d in deg])\n",
    "# ax.set_xticklabels(deg)"
   ]
  },
  {
   "cell_type": "code",
   "execution_count": 13,
   "metadata": {
    "scrolled": true,
    "pycharm": {
     "name": "#%%\n"
    }
   },
   "outputs": [
    {
     "name": "stdout",
     "output_type": "stream",
     "text": [
      "Using number of cpu threads: = 16\n",
      "\n",
      "Partition splits\n",
      "========================================================\n",
      "iteration: 26,\t #components: 2,\t max_component_size: 241,\t modularity: 0.0163\n",
      "iteration: 59,\t #components: 3,\t max_component_size: 238,\t modularity: 0.0244\n",
      "iteration: 69,\t #components: 4,\t max_component_size: 219,\t modularity: 0.1623\n",
      "iteration: 121,\t #components: 5,\t max_component_size: 207,\t modularity: 0.2040\n",
      "iteration: 132,\t #components: 6,\t max_component_size: 190,\t modularity: 0.2568\n",
      "iteration: 134,\t #components: 7,\t max_component_size: 190,\t modularity: 0.2542\n",
      "iteration: 139,\t #components: 8,\t max_component_size: 190,\t modularity: 0.2524\n",
      "iteration: 141,\t #components: 9,\t max_component_size: 182,\t modularity: 0.2722\n",
      "iteration: 143,\t #components: 10,\t max_component_size: 166,\t modularity: 0.3813\n",
      "iteration: 147,\t #components: 11,\t max_component_size: 122,\t modularity: 0.5043\n",
      "iteration: 148,\t #components: 12,\t max_component_size: 96,\t modularity: 0.5428\n",
      "iteration: 149,\t #components: 13,\t max_component_size: 51,\t modularity: 0.5746\n",
      "iteration: 158,\t #components: 14,\t max_component_size: 51,\t modularity: 0.5707\n",
      "iteration: 163,\t #components: 15,\t max_component_size: 44,\t modularity: 0.5789\n",
      "iteration: 164,\t #components: 16,\t max_component_size: 44,\t modularity: 0.5743\n",
      "iteration: 165,\t #components: 17,\t max_component_size: 44,\t modularity: 0.5728\n",
      "iteration: 166,\t #components: 18,\t max_component_size: 44,\t modularity: 0.5719\n",
      "iteration: 167,\t #components: 19,\t max_component_size: 44,\t modularity: 0.5700\n",
      "iteration: 168,\t #components: 20,\t max_component_size: 42,\t modularity: 0.5786\n",
      "iteration: 173,\t #components: 21,\t max_component_size: 40,\t modularity: 0.5750\n",
      "iteration: 174,\t #components: 22,\t max_component_size: 38,\t modularity: 0.5729\n",
      "iteration: 177,\t #components: 23,\t max_component_size: 35,\t modularity: 0.5712\n",
      "iteration: 178,\t #components: 24,\t max_component_size: 35,\t modularity: 0.5697\n",
      "iteration: 179,\t #components: 25,\t max_component_size: 35,\t modularity: 0.5690\n",
      "iteration: 180,\t #components: 26,\t max_component_size: 35,\t modularity: 0.5676\n",
      "iteration: 181,\t #components: 27,\t max_component_size: 35,\t modularity: 0.5635\n",
      "iteration: 182,\t #components: 28,\t max_component_size: 35,\t modularity: 0.5649\n",
      "iteration: 188,\t #components: 29,\t max_component_size: 35,\t modularity: 0.5611\n",
      "iteration: 192,\t #components: 30,\t max_component_size: 27,\t modularity: 0.5551\n",
      "iteration: 194,\t #components: 31,\t max_component_size: 23,\t modularity: 0.5497\n",
      "iteration: 196,\t #components: 32,\t max_component_size: 23,\t modularity: 0.5479\n",
      "iteration: 197,\t #components: 33,\t max_component_size: 23,\t modularity: 0.5461\n",
      "iteration: 198,\t #components: 34,\t max_component_size: 23,\t modularity: 0.5442\n",
      "iteration: 199,\t #components: 35,\t max_component_size: 23,\t modularity: 0.5410\n",
      "iteration: 200,\t #components: 36,\t max_component_size: 23,\t modularity: 0.5381\n",
      "iteration: 201,\t #components: 37,\t max_component_size: 23,\t modularity: 0.5368\n",
      "iteration: 205,\t #components: 38,\t max_component_size: 21,\t modularity: 0.5328\n",
      "iteration: 209,\t #components: 39,\t max_component_size: 19,\t modularity: 0.5320\n",
      "iteration: 210,\t #components: 40,\t max_component_size: 19,\t modularity: 0.5271\n",
      "iteration: 212,\t #components: 41,\t max_component_size: 17,\t modularity: 0.5219\n",
      "iteration: 213,\t #components: 42,\t max_component_size: 17,\t modularity: 0.5207\n",
      "iteration: 214,\t #components: 43,\t max_component_size: 17,\t modularity: 0.5186\n",
      "iteration: 215,\t #components: 44,\t max_component_size: 17,\t modularity: 0.5175\n",
      "iteration: 216,\t #components: 45,\t max_component_size: 17,\t modularity: 0.5156\n",
      "iteration: 217,\t #components: 46,\t max_component_size: 17,\t modularity: 0.5138\n",
      "iteration: 218,\t #components: 47,\t max_component_size: 17,\t modularity: 0.5123\n",
      "iteration: 219,\t #components: 48,\t max_component_size: 17,\t modularity: 0.5105\n",
      "iteration: 220,\t #components: 49,\t max_component_size: 17,\t modularity: 0.5086\n",
      "iteration: 221,\t #components: 50,\t max_component_size: 17,\t modularity: 0.5067\n",
      "iteration: 222,\t #components: 51,\t max_component_size: 17,\t modularity: 0.5033\n",
      "iteration: 223,\t #components: 52,\t max_component_size: 17,\t modularity: 0.5015\n",
      "iteration: 224,\t #components: 53,\t max_component_size: 17,\t modularity: 0.4997\n",
      "iteration: 225,\t #components: 54,\t max_component_size: 17,\t modularity: 0.4977\n",
      "iteration: 230,\t #components: 55,\t max_component_size: 16,\t modularity: 0.4890\n",
      "iteration: 232,\t #components: 56,\t max_component_size: 16,\t modularity: 0.4855\n",
      "iteration: 233,\t #components: 57,\t max_component_size: 16,\t modularity: 0.4831\n",
      "iteration: 235,\t #components: 58,\t max_component_size: 16,\t modularity: 0.4792\n",
      "iteration: 241,\t #components: 59,\t max_component_size: 16,\t modularity: 0.4690\n",
      "\n",
      "FINAL RESULT\n",
      "========================================================\n",
      "Elapsed time: 32.8188 (s)\n",
      "Number of iterations: 244\n",
      "Number of communities detected: 59\n",
      "Size of largest community: 16\n",
      "List of component sizes (final): [3 9 9 16 5 2 7 4 6 3 3 4 4 4 7 6 8 3 2 6 6 7 3 5 7 4 3 3 4 4 3 2 2 2 2 5 3 2 8 2 2 3 3 3 9 3 3 6 3 2 2 2 2 3 3 2 2 3 2]\n",
      "MAXIMUM MODULARITY PARTITION RESULT\n",
      "========================================================\n",
      "Modularity: 0.5789\n",
      "Number of communities detected: 15\n",
      "List of component sizes (max mod): [35 44 19 16 42 26 16 8 6 5 12 3 9 2 3]\n",
      "\n"
     ]
    }
   ],
   "source": [
    "g_lc_orc, partitions_list = orcci(G,verbose=\"INFO\")"
   ]
  },
  {
   "cell_type": "code",
   "execution_count": 14,
   "metadata": {
    "pycharm": {
     "name": "#%%\n"
    }
   },
   "outputs": [
    {
     "name": "stdout",
     "output_type": "stream",
     "text": [
      "number of communities:  59\n"
     ]
    }
   ],
   "source": [
    "print(\"number of communities: \", len(partitions_list))"
   ]
  },
  {
   "cell_type": "code",
   "execution_count": 15,
   "metadata": {
    "scrolled": true,
    "pycharm": {
     "name": "#%%\n"
    }
   },
   "outputs": [
    {
     "name": "stdout",
     "output_type": "stream",
     "text": [
      "44\n",
      "[0] iteration: 1,\t #components: 1,\t max_component_size: 246,\t modularity: 0.0000\n",
      "[1] iteration: 26,\t #components: 2,\t max_component_size: 241,\t modularity: 0.0163\n",
      "[2] iteration: 59,\t #components: 3,\t max_component_size: 238,\t modularity: 0.0244\n",
      "[3] iteration: 69,\t #components: 4,\t max_component_size: 219,\t modularity: 0.1623\n",
      "[4] iteration: 121,\t #components: 5,\t max_component_size: 207,\t modularity: 0.2040\n",
      "[5] iteration: 132,\t #components: 6,\t max_component_size: 190,\t modularity: 0.2568\n",
      "[6] iteration: 134,\t #components: 7,\t max_component_size: 190,\t modularity: 0.2542\n",
      "[7] iteration: 139,\t #components: 8,\t max_component_size: 190,\t modularity: 0.2524\n",
      "[8] iteration: 141,\t #components: 9,\t max_component_size: 182,\t modularity: 0.2722\n",
      "[9] iteration: 143,\t #components: 10,\t max_component_size: 166,\t modularity: 0.3813\n",
      "[10] iteration: 147,\t #components: 11,\t max_component_size: 122,\t modularity: 0.5043\n",
      "[11] iteration: 148,\t #components: 12,\t max_component_size: 96,\t modularity: 0.5428\n",
      "[12] iteration: 149,\t #components: 13,\t max_component_size: 51,\t modularity: 0.5746\n",
      "[13] iteration: 158,\t #components: 14,\t max_component_size: 51,\t modularity: 0.5707\n",
      "[14] iteration: 163,\t #components: 15,\t max_component_size: 44,\t modularity: 0.5789\n",
      "[15] iteration: 164,\t #components: 16,\t max_component_size: 44,\t modularity: 0.5743\n",
      "[16] iteration: 165,\t #components: 17,\t max_component_size: 44,\t modularity: 0.5728\n",
      "[17] iteration: 166,\t #components: 18,\t max_component_size: 44,\t modularity: 0.5719\n",
      "[18] iteration: 167,\t #components: 19,\t max_component_size: 44,\t modularity: 0.5700\n",
      "[19] iteration: 168,\t #components: 20,\t max_component_size: 42,\t modularity: 0.5786\n",
      "[20] iteration: 173,\t #components: 21,\t max_component_size: 40,\t modularity: 0.5750\n",
      "[21] iteration: 174,\t #components: 22,\t max_component_size: 38,\t modularity: 0.5729\n",
      "[22] iteration: 177,\t #components: 23,\t max_component_size: 35,\t modularity: 0.5712\n",
      "[23] iteration: 178,\t #components: 24,\t max_component_size: 35,\t modularity: 0.5697\n",
      "[24] iteration: 179,\t #components: 25,\t max_component_size: 35,\t modularity: 0.5690\n",
      "[25] iteration: 180,\t #components: 26,\t max_component_size: 35,\t modularity: 0.5676\n",
      "[26] iteration: 181,\t #components: 27,\t max_component_size: 35,\t modularity: 0.5635\n",
      "[27] iteration: 182,\t #components: 28,\t max_component_size: 35,\t modularity: 0.5649\n",
      "[28] iteration: 188,\t #components: 29,\t max_component_size: 35,\t modularity: 0.5611\n",
      "[29] iteration: 192,\t #components: 30,\t max_component_size: 27,\t modularity: 0.5551\n",
      "[30] iteration: 194,\t #components: 31,\t max_component_size: 23,\t modularity: 0.5497\n",
      "[31] iteration: 196,\t #components: 32,\t max_component_size: 23,\t modularity: 0.5479\n",
      "[32] iteration: 197,\t #components: 33,\t max_component_size: 23,\t modularity: 0.5461\n",
      "[33] iteration: 198,\t #components: 34,\t max_component_size: 23,\t modularity: 0.5442\n",
      "[34] iteration: 199,\t #components: 35,\t max_component_size: 23,\t modularity: 0.5410\n",
      "[35] iteration: 200,\t #components: 36,\t max_component_size: 23,\t modularity: 0.5381\n",
      "[36] iteration: 201,\t #components: 37,\t max_component_size: 23,\t modularity: 0.5368\n",
      "[37] iteration: 205,\t #components: 38,\t max_component_size: 21,\t modularity: 0.5328\n",
      "[38] iteration: 209,\t #components: 39,\t max_component_size: 19,\t modularity: 0.5320\n",
      "[39] iteration: 210,\t #components: 40,\t max_component_size: 19,\t modularity: 0.5271\n",
      "[40] iteration: 212,\t #components: 41,\t max_component_size: 17,\t modularity: 0.5219\n",
      "[41] iteration: 213,\t #components: 42,\t max_component_size: 17,\t modularity: 0.5207\n",
      "[42] iteration: 214,\t #components: 43,\t max_component_size: 17,\t modularity: 0.5186\n",
      "[43] iteration: 215,\t #components: 44,\t max_component_size: 17,\t modularity: 0.5175\n",
      "[44] iteration: 216,\t #components: 45,\t max_component_size: 17,\t modularity: 0.5156\n",
      "[45] iteration: 217,\t #components: 46,\t max_component_size: 17,\t modularity: 0.5138\n",
      "[46] iteration: 218,\t #components: 47,\t max_component_size: 17,\t modularity: 0.5123\n",
      "[47] iteration: 219,\t #components: 48,\t max_component_size: 17,\t modularity: 0.5105\n",
      "[48] iteration: 220,\t #components: 49,\t max_component_size: 17,\t modularity: 0.5086\n",
      "[49] iteration: 221,\t #components: 50,\t max_component_size: 17,\t modularity: 0.5067\n",
      "[50] iteration: 222,\t #components: 51,\t max_component_size: 17,\t modularity: 0.5033\n",
      "[51] iteration: 223,\t #components: 52,\t max_component_size: 17,\t modularity: 0.5015\n",
      "[52] iteration: 224,\t #components: 53,\t max_component_size: 17,\t modularity: 0.4997\n",
      "[53] iteration: 225,\t #components: 54,\t max_component_size: 17,\t modularity: 0.4977\n",
      "[54] iteration: 230,\t #components: 55,\t max_component_size: 16,\t modularity: 0.4890\n",
      "[55] iteration: 232,\t #components: 56,\t max_component_size: 16,\t modularity: 0.4855\n",
      "[56] iteration: 233,\t #components: 57,\t max_component_size: 16,\t modularity: 0.4831\n",
      "[57] iteration: 235,\t #components: 58,\t max_component_size: 16,\t modularity: 0.4792\n",
      "[58] iteration: 241,\t #components: 59,\t max_component_size: 16,\t modularity: 0.4690\n",
      "\n",
      "Leaf ID and # of community memberships\n",
      "{2: 5, 4: 3, 11: 6, 13: 9, 14: 2, 16: 8, 18: 16, 26: 3, 32: 2, 35: 6, 36: 2, 40: 2, 42: 2, 46: 5, 48: 3, 53: 9, 56: 4, 60: 8, 62: 3, 63: 7, 64: 2, 65: 2, 70: 3, 71: 4, 74: 2, 78: 4, 80: 2, 81: 3, 83: 3, 84: 2, 85: 6, 87: 3, 88: 3, 90: 2, 91: 4, 92: 3, 93: 6, 94: 2, 95: 7, 96: 2, 97: 3, 98: 2, 99: 7, 100: 3, 101: 3, 102: 3, 103: 4, 104: 3, 105: 3, 106: 2, 108: 3, 109: 3, 110: 4, 111: 7, 112: 4, 113: 2, 114: 6, 115: 9, 116: 5}\n",
      "\n",
      "Maximum modularity: 0.5789 @ split: 14 (iteration: 163).\n"
     ]
    },
    {
     "data": {
      "text/plain": "<Figure size 576x432 with 1 Axes>",
      "image/png": "[encoded data removed]"
     },
     "metadata": {},
     "output_type": "display_data"
    }
   ],
   "source": [
    "split_idx = 14\n",
    "\n",
    "threshold = len(partitions_list) - (split_idx + 1)\n",
    "print(threshold)\n",
    "\n",
    "draw_dendrogram(partitions_list, threshold=threshold, figsize=(8,6),verbose=True)"
   ]
  },
  {
   "cell_type": "code",
   "execution_count": 16,
   "metadata": {
    "pycharm": {
     "name": "#%%\n"
    }
   },
   "outputs": [],
   "source": [
    "file = \"../results/ppi/Phi_Main_ppi_lc.gml\"\n",
    "nx.write_gml(g_lc_orc.G,file)"
   ]
  },
  {
   "cell_type": "markdown",
   "metadata": {
    "pycharm": {
     "name": "#%% md\n"
    }
   },
   "source": [
    "### Side Information "
   ]
  },
  {
   "cell_type": "code",
   "execution_count": 17,
   "metadata": {
    "pycharm": {
     "name": "#%%\n"
    }
   },
   "outputs": [
    {
     "name": "stdout",
     "output_type": "stream",
     "text": [
      "Amount of SideInfo: 160\n",
      "Number of known pathways: 8\n",
      "Pathways: ['abscisic acid', 'auxin', 'brassinosteroid', 'cytokinin', 'ethylene', 'gibberellin', 'jasmonic acid', 'salicylic acid']\n"
     ]
    }
   ],
   "source": [
    "filename = \"../data/PhIMain/Phi_Main_ppi_all_sideinfo.xlsx\"\n",
    "\n",
    "df_sinfo = pd.read_excel(filename,header=0) # ,index_col=1\n",
    "df_sinfo = df_sinfo[['Label','SideInfo']]\n",
    "df_sinfo = df_sinfo[[isinstance(x,str) for x in df_sinfo['SideInfo']]]  # filter row with valid SideInfo\n",
    "pathway_list = list(set(df_sinfo['SideInfo']))\n",
    "pathway_list.sort()\n",
    "pathway_list.insert(0,'unknown')\n",
    "print(\"Amount of SideInfo: %d\" % len(df_sinfo))\n",
    "print(\"Number of known pathways: %d\" % (len(pathway_list)-1))\n",
    "print(\"Pathways:\", pathway_list[1:])"
   ]
  },
  {
   "cell_type": "code",
   "execution_count": 18,
   "metadata": {
    "scrolled": true,
    "pycharm": {
     "name": "#%%\n"
    }
   },
   "outputs": [
    {
     "name": "stdout",
     "output_type": "stream",
     "text": [
      "AT1G01030 {'pathway': 'auxin', 'pathwayID': 2}\n",
      "AT3G17600 {'pathway': 'auxin', 'pathwayID': 2}\n",
      "AT1G01140 {'pathway': 'unknown', 'pathwayID': 0}\n",
      "AT2G23290 {'pathway': 'unknown', 'pathwayID': 0}\n",
      "AT1G01360 {'pathway': 'abscisic acid', 'pathwayID': 1}\n",
      "AT4G26080 {'pathway': 'unknown', 'pathwayID': 0}\n",
      "AT1G04100 {'pathway': 'auxin', 'pathwayID': 2}\n",
      "AT1G15050 {'pathway': 'auxin', 'pathwayID': 2}\n",
      "AT2G33310 {'pathway': 'auxin', 'pathwayID': 2}\n",
      "AT3G04730 {'pathway': 'auxin', 'pathwayID': 2}\n",
      "AT3G16500 {'pathway': 'auxin', 'pathwayID': 2}\n",
      "AT3G23030 {'pathway': 'auxin', 'pathwayID': 2}\n",
      "AT4G14560 {'pathway': 'auxin', 'pathwayID': 2}\n",
      "AT1G04240 {'pathway': 'auxin', 'pathwayID': 2}\n",
      "AT1G04250 {'pathway': 'auxin', 'pathwayID': 2}\n",
      "AT3G15540 {'pathway': 'auxin', 'pathwayID': 2}\n",
      "AT1G04550 {'pathway': 'auxin', 'pathwayID': 2}\n",
      "AT1G07430 {'pathway': 'abscisic acid', 'pathwayID': 1}\n",
      "AT4G01026 {'pathway': 'abscisic acid', 'pathwayID': 1}\n",
      "AT4G18620 {'pathway': 'abscisic acid', 'pathwayID': 1}\n",
      "AT1G10940 {'pathway': 'auxin', 'pathwayID': 2}\n",
      "AT2G36270 {'pathway': 'abscisic acid', 'pathwayID': 1}\n",
      "AT3G23050 {'pathway': 'unknown', 'pathwayID': 0}\n",
      "AT1G15550 {'pathway': 'gibberellin', 'pathwayID': 6}\n",
      "AT5G60120 {'pathway': 'unknown', 'pathwayID': 0}\n",
      "AT1G17380 {'pathway': 'jasmonic acid', 'pathwayID': 7}\n",
      "AT3G29350 {'pathway': 'cytokinin', 'pathwayID': 4}\n",
      "AT4G28910 {'pathway': 'jasmonic acid', 'pathwayID': 7}\n",
      "AT1G18400 {'pathway': 'brassinosteroid', 'pathwayID': 3}\n",
      "AT5G41920 {'pathway': 'unknown', 'pathwayID': 0}\n",
      "AT1G19050 {'pathway': 'cytokinin', 'pathwayID': 4}\n",
      "AT1G22770 {'pathway': 'gibberellin', 'pathwayID': 6}\n",
      "AT1G51950 {'pathway': 'auxin', 'pathwayID': 2}\n",
      "AT2G37630 {'pathway': 'gibberellin', 'pathwayID': 6}\n",
      "AT2G44950 {'pathway': 'unknown', 'pathwayID': 0}\n",
      "AT4G08150 {'pathway': 'gibberellin', 'pathwayID': 6}\n",
      "AT4G32570 {'pathway': 'jasmonic acid', 'pathwayID': 7}\n",
      "AT4G37260 {'pathway': 'unknown', 'pathwayID': 0}\n",
      "AT1G25470 {'pathway': 'unknown', 'pathwayID': 0}\n",
      "AT5G08130 {'pathway': 'brassinosteroid', 'pathwayID': 3}\n",
      "AT1G30270 {'pathway': 'unknown', 'pathwayID': 0}\n",
      "AT5G47100 {'pathway': 'abscisic acid', 'pathwayID': 1}\n",
      "AT1G32640 {'pathway': 'unknown', 'pathwayID': 0}\n",
      "AT1G37130 {'pathway': 'salicylic acid', 'pathwayID': 8}\n",
      "AT5G18930 {'pathway': 'unknown', 'pathwayID': 0}\n",
      "AT1G50600 {'pathway': 'unknown', 'pathwayID': 0}\n",
      "AT2G20350 {'pathway': 'unknown', 'pathwayID': 0}\n",
      "AT1G51660 {'pathway': 'unknown', 'pathwayID': 0}\n",
      "AT3G24520 {'pathway': 'abscisic acid', 'pathwayID': 1}\n",
      "AT3G45640 {'pathway': 'salicylic acid', 'pathwayID': 8}\n",
      "AT3G61830 {'pathway': 'unknown', 'pathwayID': 0}\n",
      "AT1G52340 {'pathway': 'abscisic acid', 'pathwayID': 1}\n",
      "AT1G53170 {'pathway': 'ethylene', 'pathwayID': 5}\n",
      "AT5G19000 {'pathway': 'ethylene', 'pathwayID': 5}\n",
      "AT1G53510 {'pathway': 'unknown', 'pathwayID': 0}\n",
      "AT2G01570 {'pathway': 'gibberellin', 'pathwayID': 6}\n",
      "AT1G53910 {'pathway': 'unknown', 'pathwayID': 0}\n",
      "AT2G38490 {'pathway': 'unknown', 'pathwayID': 0}\n",
      "AT1G54490 {'pathway': 'ethylene', 'pathwayID': 5}\n",
      "AT1G64280 {'pathway': 'salicylic acid', 'pathwayID': 8}\n",
      "AT5G06950 {'pathway': 'salicylic acid', 'pathwayID': 8}\n",
      "AT1G64520 {'pathway': 'cytokinin', 'pathwayID': 4}\n",
      "AT1G65620 {'pathway': 'gibberellin', 'pathwayID': 6}\n",
      "AT1G73410 {'pathway': 'unknown', 'pathwayID': 0}\n",
      "AT1G75080 {'pathway': 'brassinosteroid', 'pathwayID': 3}\n",
      "AT2G30590 {'pathway': 'unknown', 'pathwayID': 0}\n",
      "AT2G42880 {'pathway': 'unknown', 'pathwayID': 0}\n",
      "AT3G14720 {'pathway': 'unknown', 'pathwayID': 0}\n",
      "AT4G16110 {'pathway': 'unknown', 'pathwayID': 0}\n",
      "AT2G01760 {'pathway': 'cytokinin', 'pathwayID': 4}\n",
      "AT2G46990 {'pathway': 'auxin', 'pathwayID': 2}\n",
      "AT3G62100 {'pathway': 'auxin', 'pathwayID': 2}\n",
      "AT4G00120 {'pathway': 'auxin', 'pathwayID': 2}\n",
      "AT2G02560 {'pathway': 'auxin', 'pathwayID': 2}\n",
      "AT2G25090 {'pathway': 'unknown', 'pathwayID': 0}\n",
      "AT5G53160 {'pathway': 'abscisic acid', 'pathwayID': 1}\n",
      "AT5G58950 {'pathway': 'ethylene', 'pathwayID': 5}\n",
      "AT5G67300 {'pathway': 'unknown', 'pathwayID': 0}\n",
      "AT2G25490 {'pathway': 'ethylene', 'pathwayID': 5}\n",
      "AT2G26980 {'pathway': 'abscisic acid', 'pathwayID': 1}\n",
      "AT2G28350 {'pathway': 'auxin', 'pathwayID': 2}\n",
      "AT2G29380 {'pathway': 'unknown', 'pathwayID': 0}\n",
      "AT5G45860 {'pathway': 'abscisic acid', 'pathwayID': 1}\n",
      "AT4G28640 {'pathway': 'auxin', 'pathwayID': 2}\n",
      "AT2G39220 {'pathway': 'unknown', 'pathwayID': 0}\n",
      "AT2G40330 {'pathway': 'abscisic acid', 'pathwayID': 1}\n",
      "AT3G48090 {'pathway': 'salicylic acid', 'pathwayID': 8}\n",
      "AT5G51760 {'pathway': 'abscisic acid', 'pathwayID': 1}\n",
      "AT3G04240 {'pathway': 'unknown', 'pathwayID': 0}\n",
      "AT3G28910 {'pathway': 'brassinosteroid', 'pathwayID': 3}\n",
      "AT5G17690 {'pathway': 'gibberellin', 'pathwayID': 6}\n",
      "AT4G30080 {'pathway': 'auxin', 'pathwayID': 2}\n",
      "AT4G11070 {'pathway': 'unknown', 'pathwayID': 0}\n",
      "AT4G24240 {'pathway': 'unknown', 'pathwayID': 0}\n",
      "AT5G61380 {'pathway': 'unknown', 'pathwayID': 0}\n",
      "AT5G64810 {'pathway': 'jasmonic acid', 'pathwayID': 7}\n",
      "AT4G14713 {'pathway': 'unknown', 'pathwayID': 0}\n",
      "AT4G15560 {'pathway': 'abscisic acid', 'pathwayID': 1}\n",
      "AT4G16420 {'pathway': 'auxin', 'pathwayID': 2}\n",
      "AT4G27920 {'pathway': 'abscisic acid', 'pathwayID': 1}\n",
      "AT5G05440 {'pathway': 'abscisic acid', 'pathwayID': 1}\n",
      "AT5G04870 {'pathway': 'salicylic acid', 'pathwayID': 8}\n",
      "AT5G06960 {'pathway': 'salicylic acid', 'pathwayID': 8}\n",
      "AT5G10930 {'pathway': 'unknown', 'pathwayID': 0}\n",
      "AT5G35410 {'pathway': 'unknown', 'pathwayID': 0}\n",
      "AT5G45820 {'pathway': 'abscisic acid', 'pathwayID': 1}\n",
      "AT5G58380 {'pathway': 'unknown', 'pathwayID': 0}\n",
      "AT1G78590 {'pathway': 'abscisic acid', 'pathwayID': 1}\n",
      "AT4G32010 {'pathway': 'unknown', 'pathwayID': 0}\n",
      "AT4G24470 {'pathway': 'unknown', 'pathwayID': 0}\n",
      "AT3G23610 {'pathway': 'unknown', 'pathwayID': 0}\n",
      "AT5G45810 {'pathway': 'unknown', 'pathwayID': 0}\n",
      "AT4G36930 {'pathway': 'unknown', 'pathwayID': 0}\n",
      "AT5G45830 {'pathway': 'abscisic acid', 'pathwayID': 1}\n",
      "AT1G35560 {'pathway': 'unknown', 'pathwayID': 0}\n",
      "AT4G00240 {'pathway': 'unknown', 'pathwayID': 0}\n",
      "AT1G77200 {'pathway': 'unknown', 'pathwayID': 0}\n",
      "AT1G17550 {'pathway': 'unknown', 'pathwayID': 0}\n",
      "AT2G04550 {'pathway': 'unknown', 'pathwayID': 0}\n",
      "AT3G62340 {'pathway': 'unknown', 'pathwayID': 0}\n",
      "AT4G29810 {'pathway': 'auxin', 'pathwayID': 2}\n",
      "AT1G21690 {'pathway': 'unknown', 'pathwayID': 0}\n",
      "AT3G57040 {'pathway': 'cytokinin', 'pathwayID': 4}\n",
      "AT5G62000 {'pathway': 'unknown', 'pathwayID': 0}\n",
      "AT2G46130 {'pathway': 'unknown', 'pathwayID': 0}\n",
      "AT4G24400 {'pathway': 'unknown', 'pathwayID': 0}\n",
      "AT1G19220 {'pathway': 'auxin', 'pathwayID': 2}\n",
      "AT5G55170 {'pathway': 'salicylic acid', 'pathwayID': 8}\n",
      "AT1G51600 {'pathway': 'unknown', 'pathwayID': 0}\n",
      "AT3G21175 {'pathway': 'unknown', 'pathwayID': 0}\n",
      "AT4G29800 {'pathway': 'unknown', 'pathwayID': 0}\n",
      "AT5G13080 {'pathway': 'unknown', 'pathwayID': 0}\n",
      "AT5G43290 {'pathway': 'unknown', 'pathwayID': 0}\n",
      "AT1G14280 {'pathway': 'auxin', 'pathwayID': 2}\n",
      "AT2G39250 {'pathway': 'unknown', 'pathwayID': 0}\n",
      "AT4G36540 {'pathway': 'brassinosteroid', 'pathwayID': 3}\n",
      "AT1G28360 {'pathway': 'ethylene', 'pathwayID': 5}\n",
      "AT3G01970 {'pathway': 'unknown', 'pathwayID': 0}\n",
      "AT1G10210 {'pathway': 'auxin', 'pathwayID': 2}\n",
      "AT1G18350 {'pathway': 'unknown', 'pathwayID': 0}\n",
      "AT1G07340 {'pathway': 'brassinosteroid', 'pathwayID': 3}\n",
      "AT3G15150 {'pathway': 'cytokinin', 'pathwayID': 4}\n",
      "AT1G80340 {'pathway': 'gibberellin', 'pathwayID': 6}\n",
      "AT2G30020 {'pathway': 'abscisic acid', 'pathwayID': 1}\n",
      "AT4G01370 {'pathway': 'unknown', 'pathwayID': 0}\n",
      "AT2G44050 {'pathway': 'jasmonic acid', 'pathwayID': 7}\n",
      "AT5G01810 {'pathway': 'abscisic acid', 'pathwayID': 1}\n",
      "AT1G74950 {'pathway': 'jasmonic acid', 'pathwayID': 7}\n",
      "AT1G50960 {'pathway': 'gibberellin', 'pathwayID': 6}\n",
      "AT3G54220 {'pathway': 'unknown', 'pathwayID': 0}\n",
      "AT1G31880 {'pathway': 'unknown', 'pathwayID': 0}\n",
      "AT2G44745 {'pathway': 'unknown', 'pathwayID': 0}\n",
      "AT5G55910 {'pathway': 'auxin', 'pathwayID': 2}\n",
      "AT1G69560 {'pathway': 'unknown', 'pathwayID': 0}\n",
      "AT1G66560 {'pathway': 'unknown', 'pathwayID': 0}\n",
      "AT5G22570 {'pathway': 'salicylic acid', 'pathwayID': 8}\n",
      "AT5G25190 {'pathway': 'ethylene', 'pathwayID': 5}\n",
      "AT3G12250 {'pathway': 'salicylic acid', 'pathwayID': 8}\n",
      "AT1G74910 {'pathway': 'ethylene', 'pathwayID': 5}\n",
      "AT3G03540 {'pathway': 'unknown', 'pathwayID': 0}\n",
      "AT1G14920 {'pathway': 'gibberellin', 'pathwayID': 6}\n",
      "AT3G03450 {'pathway': 'gibberellin', 'pathwayID': 6}\n",
      "AT5G54190 {'pathway': 'ethylene', 'pathwayID': 5}\n",
      "AT5G01600 {'pathway': 'salicylic acid', 'pathwayID': 8}\n",
      "AT1G72450 {'pathway': 'jasmonic acid', 'pathwayID': 7}\n",
      "AT2G24570 {'pathway': 'unknown', 'pathwayID': 0}\n",
      "AT1G68550 {'pathway': 'unknown', 'pathwayID': 0}\n",
      "AT4G02570 {'pathway': 'unknown', 'pathwayID': 0}\n",
      "AT5G13220 {'pathway': 'jasmonic acid', 'pathwayID': 7}\n",
      "AT1G77470 {'pathway': 'salicylic acid', 'pathwayID': 8}\n",
      "AT5G16080 {'pathway': 'unknown', 'pathwayID': 0}\n",
      "AT2G02950 {'pathway': 'auxin', 'pathwayID': 2}\n",
      "AT2G32960 {'pathway': 'unknown', 'pathwayID': 0}\n",
      "AT4G24210 {'pathway': 'gibberellin', 'pathwayID': 6}\n",
      "AT4G31920 {'pathway': 'cytokinin', 'pathwayID': 4}\n",
      "AT2G25000 {'pathway': 'salicylic acid', 'pathwayID': 8}\n",
      "AT5G57050 {'pathway': 'abscisic acid', 'pathwayID': 1}\n",
      "AT5G64813 {'pathway': 'ethylene', 'pathwayID': 5}\n",
      "AT4G26070 {'pathway': 'abscisic acid', 'pathwayID': 1}\n",
      "AT2G45820 {'pathway': 'ethylene', 'pathwayID': 5}\n",
      "AT3G44620 {'pathway': 'unknown', 'pathwayID': 0}\n",
      "AT4G27450 {'pathway': 'ethylene', 'pathwayID': 5}\n",
      "AT5G43830 {'pathway': 'ethylene', 'pathwayID': 5}\n",
      "AT1G19180 {'pathway': 'unknown', 'pathwayID': 0}\n",
      "AT1G70700 {'pathway': 'jasmonic acid', 'pathwayID': 7}\n",
      "AT2G46870 {'pathway': 'auxin', 'pathwayID': 2}\n",
      "AT1G22640 {'pathway': 'unknown', 'pathwayID': 0}\n",
      "AT1G69810 {'pathway': 'unknown', 'pathwayID': 0}\n",
      "AT1G80840 {'pathway': 'salicylic acid', 'pathwayID': 8}\n",
      "AT4G18880 {'pathway': 'unknown', 'pathwayID': 0}\n",
      "AT3G20550 {'pathway': 'ethylene', 'pathwayID': 5}\n",
      "AT5G56580 {'pathway': 'unknown', 'pathwayID': 0}\n",
      "AT4G14720 {'pathway': 'jasmonic acid', 'pathwayID': 7}\n",
      "AT1G63160 {'pathway': 'unknown', 'pathwayID': 0}\n",
      "AT5G04190 {'pathway': 'auxin', 'pathwayID': 2}\n",
      "AT1G06400 {'pathway': 'auxin', 'pathwayID': 2}\n",
      "AT4G17720 {'pathway': 'ethylene', 'pathwayID': 5}\n",
      "AT1G23860 {'pathway': 'ethylene', 'pathwayID': 5}\n",
      "AT3G61860 {'pathway': 'ethylene', 'pathwayID': 5}\n",
      "AT5G59220 {'pathway': 'abscisic acid', 'pathwayID': 1}\n",
      "AT2G34650 {'pathway': 'auxin', 'pathwayID': 2}\n",
      "AT5G40440 {'pathway': 'jasmonic acid', 'pathwayID': 7}\n",
      "AT1G69010 {'pathway': 'brassinosteroid', 'pathwayID': 3}\n",
      "AT5G38860 {'pathway': 'brassinosteroid', 'pathwayID': 3}\n",
      "AT4G39780 {'pathway': 'ethylene', 'pathwayID': 5}\n",
      "AT5G21010 {'pathway': 'ethylene', 'pathwayID': 5}\n",
      "AT2G43790 {'pathway': 'unknown', 'pathwayID': 0}\n",
      "AT2G40750 {'pathway': 'salicylic acid', 'pathwayID': 8}\n",
      "AT4G26110 {'pathway': 'abscisic acid', 'pathwayID': 1}\n",
      "AT1G25490 {'pathway': 'unknown', 'pathwayID': 0}\n",
      "AT5G11270 {'pathway': 'jasmonic acid', 'pathwayID': 7}\n",
      "AT3G52930 {'pathway': 'ethylene', 'pathwayID': 5}\n",
      "AT5G03690 {'pathway': 'unknown', 'pathwayID': 0}\n",
      "AT5G65210 {'pathway': 'salicylic acid', 'pathwayID': 8}\n",
      "AT2G39760 {'pathway': 'ethylene', 'pathwayID': 5}\n",
      "AT5G25890 {'pathway': 'auxin', 'pathwayID': 2}\n",
      "AT1G30135 {'pathway': 'jasmonic acid', 'pathwayID': 7}\n",
      "AT5G67000 {'pathway': 'unknown', 'pathwayID': 0}\n",
      "AT3G42960 {'pathway': 'brassinosteroid', 'pathwayID': 3}\n",
      "AT5G58220 {'pathway': 'brassinosteroid', 'pathwayID': 3}\n",
      "AT2G26560 {'pathway': 'unknown', 'pathwayID': 0}\n",
      "AT3G63210 {'pathway': 'abscisic acid', 'pathwayID': 1}\n",
      "AT1G54990 {'pathway': 'auxin', 'pathwayID': 2}\n",
      "AT2G38120 {'pathway': 'auxin', 'pathwayID': 2}\n",
      "AT2G04890 {'pathway': 'unknown', 'pathwayID': 0}\n",
      "AT3G17510 {'pathway': 'abscisic acid', 'pathwayID': 1}\n",
      "AT2G30980 {'pathway': 'brassinosteroid', 'pathwayID': 3}\n",
      "AT4G18890 {'pathway': 'brassinosteroid', 'pathwayID': 3}\n",
      "AT1G24590 {'pathway': 'brassinosteroid', 'pathwayID': 3}\n",
      "AT1G22070 {'pathway': 'salicylic acid', 'pathwayID': 8}\n",
      "AT1G75000 {'pathway': 'unknown', 'pathwayID': 0}\n",
      "AT5G05730 {'pathway': 'unknown', 'pathwayID': 0}\n",
      "AT4G33790 {'pathway': 'unknown', 'pathwayID': 0}\n",
      "AT5G48870 {'pathway': 'abscisic acid', 'pathwayID': 1}\n",
      "AT1G13980 {'pathway': 'auxin', 'pathwayID': 2}\n",
      "AT3G11410 {'pathway': 'abscisic acid', 'pathwayID': 1}\n",
      "AT5G20900 {'pathway': 'jasmonic acid', 'pathwayID': 7}\n",
      "AT5G17490 {'pathway': 'gibberellin', 'pathwayID': 6}\n",
      "AT5G05410 {'pathway': 'unknown', 'pathwayID': 0}\n",
      "AT2G22090 {'pathway': 'abscisic acid', 'pathwayID': 1}\n",
      "AT4G33520 {'pathway': 'unknown', 'pathwayID': 0}\n",
      "AT5G07310 {'pathway': 'unknown', 'pathwayID': 0}\n",
      "AT5G48150 {'pathway': 'unknown', 'pathwayID': 0}\n",
      "AT3G25890 {'pathway': 'unknown', 'pathwayID': 0}\n",
      "AT5G13930 {'pathway': 'auxin', 'pathwayID': 2}\n",
      "AT1G35540 {'pathway': 'unknown', 'pathwayID': 0}\n",
      "AT2G38310 {'pathway': 'abscisic acid', 'pathwayID': 1}\n",
      "AT2G33830 {'pathway': 'auxin', 'pathwayID': 2}\n",
      "AT3G03530 {'pathway': 'unknown', 'pathwayID': 0}\n",
      "AT2G18170 {'pathway': 'unknown', 'pathwayID': 0}\n",
      "AT5G01820 {'pathway': 'salicylic acid', 'pathwayID': 8}\n",
      "AT5G24860 {'pathway': 'unknown', 'pathwayID': 0}\n",
      "AT1G14687 {'pathway': 'unknown', 'pathwayID': 0}\n",
      "AT3G22660 {'pathway': 'unknown', 'pathwayID': 0}\n",
      "AT1G71230 {'pathway': 'unknown', 'pathwayID': 0}\n",
      "AT2G47880 {'pathway': 'unknown', 'pathwayID': 0}\n",
      "AT5G48470 {'pathway': 'unknown', 'pathwayID': 0}\n",
      "AT1G28480 {'pathway': 'unknown', 'pathwayID': 0}\n",
      "AT2G25650 {'pathway': 'unknown', 'pathwayID': 0}\n",
      "AT5G52040 {'pathway': 'ethylene', 'pathwayID': 5}\n",
      "AT3G54810 {'pathway': 'unknown', 'pathwayID': 0}\n",
      "AT4G03420 {'pathway': 'unknown', 'pathwayID': 0}\n",
      "AT5G14250 {'pathway': 'unknown', 'pathwayID': 0}\n",
      "AT5G24660 {'pathway': 'unknown', 'pathwayID': 0}\n",
      "AT2G30360 {'pathway': 'unknown', 'pathwayID': 0}\n",
      "AT3G21220 {'pathway': 'ethylene', 'pathwayID': 5}\n",
      "AT1G51100 {'pathway': 'unknown', 'pathwayID': 0}\n",
      "AT4G12020 {'pathway': 'unknown', 'pathwayID': 0}\n",
      "AT3G01670 {'pathway': 'unknown', 'pathwayID': 0}\n",
      "AT1G75950 {'pathway': 'unknown', 'pathwayID': 0}\n",
      "AT1G56160 {'pathway': 'ethylene', 'pathwayID': 5}\n",
      "AT1G77920 {'pathway': 'unknown', 'pathwayID': 0}\n",
      "AT2G34900 {'pathway': 'abscisic acid', 'pathwayID': 1}\n"
     ]
    }
   ],
   "source": [
    "# label nodes with known pathways\n",
    "nx.set_node_attributes(g, 'unknown', \"pathway\")\n",
    "nx.set_node_attributes(g, 0, \"pathwayID\")\n",
    "\n",
    "for idx, row  in df_sinfo.iterrows():\n",
    "    gene = row['Label']\n",
    "    sinfo_label = row['SideInfo']\n",
    "    path_id = pathway_list.index(sinfo_label)\n",
    "    g.nodes[gene]['pathway'] = sinfo_label\n",
    "    g.nodes[gene]['pathwayID'] = path_id\n",
    "    \n",
    "for node in g.nodes():\n",
    "    print(node, g.nodes[node])"
   ]
  },
  {
   "cell_type": "code",
   "execution_count": 19,
   "outputs": [],
   "source": [
    "def insert_to_dict_list(dict_list, key, val):\n",
    "    if key in dict_list:\n",
    "        dict_list[key].append(val)\n",
    "    else:\n",
    "        dict_list[key] = [val]"
   ],
   "metadata": {
    "collapsed": false,
    "pycharm": {
     "name": "#%%\n"
    }
   }
  },
  {
   "cell_type": "code",
   "execution_count": 20,
   "metadata": {
    "pycharm": {
     "name": "#%%\n"
    }
   },
   "outputs": [
    {
     "name": "stdout",
     "output_type": "stream",
     "text": [
      "Side Info Summary:\n",
      "auxin 39\n",
      "cytokinin 7\n",
      "ethylene 24\n",
      "abscisic acid 32\n",
      "brassinosteroid 13\n",
      "gibberellin 13\n",
      "jasmonic acid 14\n",
      "salicylic acid 18\n"
     ]
    }
   ],
   "source": [
    "# create side information list\n",
    "\n",
    "# check if known nodes belonging to the same community have connection\n",
    "known_partition = dict()  # {0: [], 1: [], 2: []}\n",
    "\n",
    "edges_known = []  # list of all edges known (both existing and artificially created)\n",
    "nodes_known = list(df_sinfo['Label'])\n",
    "for i in nodes_known:\n",
    "    block = g.nodes[i]['pathway']\n",
    "    insert_to_dict_list(known_partition, block, i)\n",
    "    # known_partition[block].append(i)\n",
    "    # print(i, block)\n",
    "\n",
    "print(\"Side Info Summary:\")\n",
    "for i in known_partition:\n",
    "    print(i, len(known_partition[i]))\n",
    "    \n",
    "edges_known = []"
   ]
  },
  {
   "cell_type": "code",
   "execution_count": 21,
   "metadata": {
    "pycharm": {
     "name": "#%%\n"
    }
   },
   "outputs": [
    {
     "name": "stdout",
     "output_type": "stream",
     "text": [
      "Number of known edges: 95\n"
     ]
    }
   ],
   "source": [
    "for pathway_type in known_partition:\n",
    "    pathway_gene_list = known_partition[pathway_type]\n",
    "    for idx1, gene1 in enumerate(pathway_gene_list):\n",
    "        for idx2, gene2 in enumerate(pathway_gene_list[idx1+1:]):\n",
    "                \n",
    "            # Trial # 2: Soft force of weight to maximum (and ORC)\n",
    "            if g.has_edge(gene1,gene2):\n",
    "                edges_known.append((gene1, gene2))\n",
    "                # g.edges[(gene1, gene2)][''] = 1.0  # unweighted\n",
    "        \n",
    "# print(\"Known edges:\")\n",
    "# print(edges_known)\n",
    "print(\"Number of known edges:\", len(edges_known))"
   ]
  },
  {
   "cell_type": "code",
   "execution_count": 22,
   "metadata": {
    "pycharm": {
     "name": "#%%\n"
    }
   },
   "outputs": [
    {
     "name": "stdout",
     "output_type": "stream",
     "text": [
      "Name: PhIMain\n",
      "Type: Graph\n",
      "Number of nodes: 273\n",
      "Number of edges: 495\n",
      "Average degree:   3.6264\n"
     ]
    }
   ],
   "source": [
    "print(nx.info(g))"
   ]
  },
  {
   "cell_type": "markdown",
   "metadata": {
    "pycharm": {
     "name": "#%% md\n"
    }
   },
   "source": [
    "### ORCCI with side info"
   ]
  },
  {
   "cell_type": "code",
   "execution_count": 23,
   "metadata": {
    "scrolled": true,
    "pycharm": {
     "name": "#%%\n"
    }
   },
   "outputs": [
    {
     "name": "stdout",
     "output_type": "stream",
     "text": [
      "Using number of cpu threads: = 16\n",
      "\n",
      "Partition splits\n",
      "========================================================\n",
      "iteration: 22,\t #components: 18,\t max_component_size: 241,\t modularity: 0.0594\n",
      "iteration: 51,\t #components: 19,\t max_component_size: 238,\t modularity: 0.0670\n",
      "iteration: 121,\t #components: 20,\t max_component_size: 226,\t modularity: 0.1105\n",
      "iteration: 132,\t #components: 21,\t max_component_size: 215,\t modularity: 0.1444\n",
      "iteration: 134,\t #components: 22,\t max_component_size: 215,\t modularity: 0.1426\n",
      "iteration: 138,\t #components: 23,\t max_component_size: 209,\t modularity: 0.1659\n",
      "iteration: 143,\t #components: 24,\t max_component_size: 128,\t modularity: 0.4300\n",
      "iteration: 153,\t #components: 25,\t max_component_size: 125,\t modularity: 0.4307\n",
      "iteration: 154,\t #components: 26,\t max_component_size: 102,\t modularity: 0.4611\n",
      "iteration: 156,\t #components: 27,\t max_component_size: 100,\t modularity: 0.4613\n",
      "iteration: 158,\t #components: 28,\t max_component_size: 98,\t modularity: 0.4615\n",
      "iteration: 159,\t #components: 29,\t max_component_size: 92,\t modularity: 0.4703\n",
      "iteration: 160,\t #components: 30,\t max_component_size: 92,\t modularity: 0.4885\n",
      "iteration: 163,\t #components: 31,\t max_component_size: 92,\t modularity: 0.4870\n",
      "iteration: 164,\t #components: 32,\t max_component_size: 92,\t modularity: 0.4878\n",
      "iteration: 165,\t #components: 33,\t max_component_size: 92,\t modularity: 0.4980\n",
      "iteration: 166,\t #components: 34,\t max_component_size: 92,\t modularity: 0.4994\n",
      "iteration: 172,\t #components: 35,\t max_component_size: 92,\t modularity: 0.4915\n",
      "iteration: 175,\t #components: 36,\t max_component_size: 92,\t modularity: 0.4885\n",
      "iteration: 181,\t #components: 37,\t max_component_size: 71,\t modularity: 0.5353\n",
      "iteration: 183,\t #components: 38,\t max_component_size: 69,\t modularity: 0.5329\n",
      "iteration: 188,\t #components: 39,\t max_component_size: 60,\t modularity: 0.5357\n",
      "iteration: 189,\t #components: 40,\t max_component_size: 58,\t modularity: 0.5363\n",
      "iteration: 190,\t #components: 41,\t max_component_size: 58,\t modularity: 0.5345\n",
      "iteration: 191,\t #components: 42,\t max_component_size: 58,\t modularity: 0.5328\n",
      "iteration: 192,\t #components: 43,\t max_component_size: 58,\t modularity: 0.5318\n",
      "iteration: 193,\t #components: 44,\t max_component_size: 58,\t modularity: 0.5302\n",
      "iteration: 194,\t #components: 45,\t max_component_size: 45,\t modularity: 0.5357\n",
      "iteration: 195,\t #components: 46,\t max_component_size: 45,\t modularity: 0.5340\n",
      "iteration: 198,\t #components: 47,\t max_component_size: 45,\t modularity: 0.5355\n",
      "iteration: 199,\t #components: 48,\t max_component_size: 45,\t modularity: 0.5376\n",
      "iteration: 200,\t #components: 49,\t max_component_size: 39,\t modularity: 0.5400\n",
      "iteration: 201,\t #components: 50,\t max_component_size: 39,\t modularity: 0.5392\n",
      "iteration: 202,\t #components: 51,\t max_component_size: 37,\t modularity: 0.5389\n",
      "iteration: 203,\t #components: 52,\t max_component_size: 37,\t modularity: 0.5371\n",
      "iteration: 204,\t #components: 53,\t max_component_size: 37,\t modularity: 0.5314\n",
      "iteration: 205,\t #components: 54,\t max_component_size: 37,\t modularity: 0.5295\n",
      "iteration: 206,\t #components: 55,\t max_component_size: 37,\t modularity: 0.5278\n",
      "iteration: 207,\t #components: 56,\t max_component_size: 32,\t modularity: 0.5296\n",
      "iteration: 208,\t #components: 57,\t max_component_size: 32,\t modularity: 0.5280\n",
      "iteration: 211,\t #components: 58,\t max_component_size: 32,\t modularity: 0.5237\n",
      "iteration: 212,\t #components: 59,\t max_component_size: 32,\t modularity: 0.5219\n",
      "iteration: 214,\t #components: 60,\t max_component_size: 32,\t modularity: 0.5142\n",
      "iteration: 218,\t #components: 61,\t max_component_size: 32,\t modularity: 0.5132\n",
      "iteration: 220,\t #components: 62,\t max_component_size: 32,\t modularity: 0.5094\n",
      "\n",
      "FINAL RESULT\n",
      "========================================================\n",
      "Elapsed time: 32.3771 (s)\n",
      "Number of iterations: 222\n",
      "Number of communities detected: 62\n",
      "Size of largest community: 32\n",
      "List of component sizes (final): [32 9 21 2 15 3 13 3 3 2 4 6 2 6 5 1 6 7 3 5 9 5 2 7 3 4 2 2 2 1 1 3 5 3 8 2 2 3 9 3 3 6 2 2 2 1 2 2 2 2 2 2 3 3 2 1 2 2 2 2 2 2]\n",
      "MAXIMUM MODULARITY PARTITION RESULT\n",
      "========================================================\n",
      "Modularity: 0.5400\n",
      "Number of communities detected: 49\n",
      "List of component sizes (max mod): [39 9 21 2 32 13 3 3 6 2 6 8 1 6 7 5 14 7 3 4 2 2 1 1 5 5 8 8 3 9 2 2 2 1 2 2 2 2 2 2 3 3 2 1 2 2 2 2 2]\n",
      "\n"
     ]
    }
   ],
   "source": [
    "g_orc, partitions_list = orcci(g, edges_known=edges_known, block_label=\"blockRicciSinfo\", verbose=\"INFO\")"
   ]
  },
  {
   "cell_type": "code",
   "execution_count": 24,
   "metadata": {
    "pycharm": {
     "name": "#%%\n"
    }
   },
   "outputs": [],
   "source": [
    "# Saving the objects:\n",
    "pickle_file = \"../results/ppi/ppi_main_sinfo.pickle\"\n",
    "with open(pickle_file, 'wb') as f:\n",
    "    pickle.dump([g_orc, partitions_list], f)\n",
    "f.close()\n",
    "\n",
    "file = \"../results/ppi/ppi_main_sinfo.gml\"\n",
    "nx.write_gml(g_orc.G,file)"
   ]
  },
  {
   "cell_type": "code",
   "execution_count": 25,
   "metadata": {
    "pycharm": {
     "name": "#%%\n"
    }
   },
   "outputs": [],
   "source": [
    "# Getting back the objects:\n",
    "pickle_file = \"../results/ppi/ppi_main_sinfo.pickle\"\n",
    "with open(pickle_file,'rb') as f:\n",
    "    orc_noinfo, partitions_list = pickle.load(f)\n",
    "f.close()\n",
    "\n",
    "g_orc = orc_noinfo.G"
   ]
  }
 ],
 "metadata": {
  "kernelspec": {
   "display_name": "Python 3",
   "language": "python",
   "name": "python3"
  },
  "language_info": {
   "codemirror_mode": {
    "name": "ipython",
    "version": 3
   },
   "file_extension": ".py",
   "mimetype": "text/x-python",
   "name": "python",
   "nbconvert_exporter": "python",
   "pygments_lexer": "ipython3",
   "version": "3.7.3"
  }
 },
 "nbformat": 4,
 "nbformat_minor": 4
}