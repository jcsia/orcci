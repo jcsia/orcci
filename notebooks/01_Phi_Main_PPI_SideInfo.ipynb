{
 "cells": [
  {
   "cell_type": "code",
   "execution_count": 1,
   "outputs": [
    {
     "data": {
      "text/html": "\n\t\t\t<script type=\"text/javascript\">\n\t\t\t<!--\n\t\t\t\t\n\t\t\t{\n\t\t\t\tvar element = document.getElementById('NetworKit_script');\n\t\t\t\tif (element) {\n\t\t\t\t\telement.parentNode.removeChild(element);\n\t\t\t\t}\n\t\t\t\telement = document.createElement('script');\n\t\t\t\telement.type = 'text/javascript';\n\t\t\t\telement.innerHTML = 'function NetworKit_pageEmbed(id) { var i, j; var elements; elements = document.getElementById(id).getElementsByClassName(\"Plot\"); for (i=0; i<elements.length; i++) { elements[i].id = id + \"_Plot_\" + i; var data = elements[i].getAttribute(\"data-image\").split(\"|\"); elements[i].removeAttribute(\"data-image\"); var content = \"<div class=\\\\\"Image\\\\\" id=\\\\\"\" + elements[i].id + \"_Image\\\\\" />\"; elements[i].innerHTML = content; elements[i].setAttribute(\"data-image-index\", 0); elements[i].setAttribute(\"data-image-length\", data.length); for (j=0; j<data.length; j++) { elements[i].setAttribute(\"data-image-\" + j, data[j]); } NetworKit_plotUpdate(elements[i]); elements[i].onclick = function (e) { NetworKit_overlayShow((e.target) ? e.target : e.srcElement); } } elements = document.getElementById(id).getElementsByClassName(\"HeatCell\"); for (i=0; i<elements.length; i++) { var data = parseFloat(elements[i].getAttribute(\"data-heat\")); var color = \"#00FF00\"; if (data <= 1 && data > 0) { color = \"hsla(0, 100%, 75%, \" + (data) + \")\"; } else if (data <= 0 && data >= -1) { color = \"hsla(240, 100%, 75%, \" + (-data) + \")\"; } elements[i].style.backgroundColor = color; } elements = document.getElementById(id).getElementsByClassName(\"Details\"); for (i=0; i<elements.length; i++) { elements[i].setAttribute(\"data-title\", \"-\"); NetworKit_toggleDetails(elements[i]); elements[i].onclick = function (e) { NetworKit_toggleDetails((e.target) ? e.target : e.srcElement); } } elements = document.getElementById(id).getElementsByClassName(\"MathValue\"); for (i=elements.length-1; i>=0; i--) { value = elements[i].innerHTML.trim(); if (value === \"nan\") { elements[i].parentNode.innerHTML = \"\" } } elements = document.getElementById(id).getElementsByClassName(\"SubCategory\"); for (i=elements.length-1; i>=0; i--) { value = elements[i].innerHTML.trim(); if (value === \"\") { elements[i].parentNode.removeChild(elements[i]) } } elements = document.getElementById(id).getElementsByClassName(\"Category\"); for (i=elements.length-1; i>=0; i--) { value = elements[i].innerHTML.trim(); if (value === \"\") { elements[i].parentNode.removeChild(elements[i]) } } var isFirefox = false; try { isFirefox = typeof InstallTrigger !== \"undefined\"; } catch (e) {} if (!isFirefox) { alert(\"Currently the function\\'s output is only fully supported by Firefox.\"); } } function NetworKit_plotUpdate(source) { var index = source.getAttribute(\"data-image-index\"); var data = source.getAttribute(\"data-image-\" + index); var image = document.getElementById(source.id + \"_Image\"); image.style.backgroundImage = \"url(\" + data + \")\"; } function NetworKit_showElement(id, show) { var element = document.getElementById(id); element.style.display = (show) ? \"block\" : \"none\"; } function NetworKit_overlayShow(source) { NetworKit_overlayUpdate(source); NetworKit_showElement(\"NetworKit_Overlay\", true); } function NetworKit_overlayUpdate(source) { document.getElementById(\"NetworKit_Overlay_Title\").innerHTML = source.title; var index = source.getAttribute(\"data-image-index\"); var data = source.getAttribute(\"data-image-\" + index); var image = document.getElementById(\"NetworKit_Overlay_Image\"); image.setAttribute(\"data-id\", source.id); image.style.backgroundImage = \"url(\" + data + \")\"; var link = document.getElementById(\"NetworKit_Overlay_Toolbar_Bottom_Save\"); link.href = data; link.download = source.title + \".svg\"; } function NetworKit_overlayImageShift(delta) { var image = document.getElementById(\"NetworKit_Overlay_Image\"); var source = document.getElementById(image.getAttribute(\"data-id\")); var index = parseInt(source.getAttribute(\"data-image-index\")); var length = parseInt(source.getAttribute(\"data-image-length\")); var index = (index+delta) % length; if (index < 0) { index = length + index; } source.setAttribute(\"data-image-index\", index); NetworKit_overlayUpdate(source); } function NetworKit_toggleDetails(source) { var childs = source.children; var show = false; if (source.getAttribute(\"data-title\") == \"-\") { source.setAttribute(\"data-title\", \"+\"); show = false; } else { source.setAttribute(\"data-title\", \"-\"); show = true; } for (i=0; i<childs.length; i++) { if (show) { childs[i].style.display = \"block\"; } else { childs[i].style.display = \"none\"; } } }';\n\t\t\t\telement.setAttribute('id', 'NetworKit_script');\n\t\t\t\tdocument.head.appendChild(element);\n\t\t\t}\n\t\t\n\t\t\t\t\n\t\t\t{\n\t\t\t\tvar element = document.getElementById('NetworKit_style');\n\t\t\t\tif (element) {\n\t\t\t\t\telement.parentNode.removeChild(element);\n\t\t\t\t}\n\t\t\t\telement = document.createElement('style');\n\t\t\t\telement.type = 'text/css';\n\t\t\t\telement.innerHTML = '.NetworKit_Page { font-family: Arial, Helvetica, sans-serif; font-size: 14px; } .NetworKit_Page .Value:before { font-family: Arial, Helvetica, sans-serif; font-size: 1.05em; content: attr(data-title) \":\"; margin-left: -2.5em; padding-right: 0.5em; } .NetworKit_Page .Details .Value:before { display: block; } .NetworKit_Page .Value { font-family: monospace; white-space: pre; padding-left: 2.5em; white-space: -moz-pre-wrap !important; white-space: -pre-wrap; white-space: -o-pre-wrap; white-space: pre-wrap; word-wrap: break-word; tab-size: 4; -moz-tab-size: 4; } .NetworKit_Page .Category { clear: both; padding-left: 1em; margin-bottom: 1.5em; } .NetworKit_Page .Category:before { content: attr(data-title); font-size: 1.75em; display: block; margin-left: -0.8em; margin-bottom: 0.5em; } .NetworKit_Page .SubCategory { margin-bottom: 1.5em; padding-left: 1em; } .NetworKit_Page .SubCategory:before { font-size: 1.6em; display: block; margin-left: -0.8em; margin-bottom: 0.5em; } .NetworKit_Page .SubCategory[data-title]:before { content: attr(data-title); } .NetworKit_Page .Block { display: block; } .NetworKit_Page .Block:after { content: \".\"; visibility: hidden; display: block; height: 0; clear: both; } .NetworKit_Page .Block .Thumbnail_Overview, .NetworKit_Page .Block .Thumbnail_ScatterPlot { width: 260px; float: left; } .NetworKit_Page .Block .Thumbnail_Overview img, .NetworKit_Page .Block .Thumbnail_ScatterPlot img { width: 260px; } .NetworKit_Page .Block .Thumbnail_Overview:before, .NetworKit_Page .Block .Thumbnail_ScatterPlot:before { display: block; text-align: center; font-weight: bold; } .NetworKit_Page .Block .Thumbnail_Overview:before { content: attr(data-title); } .NetworKit_Page .HeatCell { font-family: \"Courier New\", Courier, monospace; cursor: pointer; } .NetworKit_Page .HeatCell, .NetworKit_Page .HeatCellName { display: inline; padding: 0.1em; margin-right: 2px; background-color: #FFFFFF } .NetworKit_Page .HeatCellName { margin-left: 0.25em; } .NetworKit_Page .HeatCell:before { content: attr(data-heat); display: inline-block; color: #000000; width: 4em; text-align: center; } .NetworKit_Page .Measure { clear: both; } .NetworKit_Page .Measure .Details { cursor: pointer; } .NetworKit_Page .Measure .Details:before { content: \"[\" attr(data-title) \"]\"; display: block; } .NetworKit_Page .Measure .Details .Value { border-left: 1px dotted black; margin-left: 0.4em; padding-left: 3.5em; pointer-events: none; } .NetworKit_Page .Measure .Details .Spacer:before { content: \".\"; opacity: 0.0; pointer-events: none; } .NetworKit_Page .Measure .Plot { width: 440px; height: 440px; cursor: pointer; float: left; margin-left: -0.9em; margin-right: 20px; } .NetworKit_Page .Measure .Plot .Image { background-repeat: no-repeat; background-position: center center; background-size: contain; height: 100%; pointer-events: none; } .NetworKit_Page .Measure .Stat { width: 500px; float: left; } .NetworKit_Page .Measure .Stat .Group { padding-left: 1.25em; margin-bottom: 0.75em; } .NetworKit_Page .Measure .Stat .Group .Title { font-size: 1.1em; display: block; margin-bottom: 0.3em; margin-left: -0.75em; border-right-style: dotted; border-right-width: 1px; border-bottom-style: dotted; border-bottom-width: 1px; background-color: #D0D0D0; padding-left: 0.2em; } .NetworKit_Page .Measure .Stat .Group .List { -webkit-column-count: 3; -moz-column-count: 3; column-count: 3; } .NetworKit_Page .Measure .Stat .Group .List .Entry { position: relative; line-height: 1.75em; } .NetworKit_Page .Measure .Stat .Group .List .Entry[data-tooltip]:before { position: absolute; left: 0; top: -40px; background-color: #808080; color: #ffffff; height: 30px; line-height: 30px; border-radius: 5px; padding: 0 15px; content: attr(data-tooltip); white-space: nowrap; display: none; } .NetworKit_Page .Measure .Stat .Group .List .Entry[data-tooltip]:after { position: absolute; left: 15px; top: -10px; border-top: 7px solid #808080; border-left: 7px solid transparent; border-right: 7px solid transparent; content: \"\"; display: none; } .NetworKit_Page .Measure .Stat .Group .List .Entry[data-tooltip]:hover:after, .NetworKit_Page .Measure .Stat .Group .List .Entry[data-tooltip]:hover:before { display: block; } .NetworKit_Page .Measure .Stat .Group .List .Entry .MathValue { font-family: \"Courier New\", Courier, monospace; } .NetworKit_Page .Measure:after { content: \".\"; visibility: hidden; display: block; height: 0; clear: both; } .NetworKit_Page .PartitionPie { clear: both; } .NetworKit_Page .PartitionPie img { width: 600px; } #NetworKit_Overlay { left: 0px; top: 0px; display: none; position: absolute; width: 100%; height: 100%; background-color: rgba(0,0,0,0.6); z-index: 1000; } #NetworKit_Overlay_Title { position: absolute; color: white; transform: rotate(-90deg); width: 32em; height: 32em; padding-right: 0.5em; padding-top: 0.5em; text-align: right; font-size: 40px; } #NetworKit_Overlay .button { background: white; cursor: pointer; } #NetworKit_Overlay .button:before { size: 13px; display: inline-block; text-align: center; margin-top: 0.5em; margin-bottom: 0.5em; width: 1.5em; height: 1.5em; } #NetworKit_Overlay .icon-close:before { content: \"X\"; } #NetworKit_Overlay .icon-previous:before { content: \"P\"; } #NetworKit_Overlay .icon-next:before { content: \"N\"; } #NetworKit_Overlay .icon-save:before { content: \"S\"; } #NetworKit_Overlay_Toolbar_Top, #NetworKit_Overlay_Toolbar_Bottom { position: absolute; width: 40px; right: 13px; text-align: right; z-index: 1100; } #NetworKit_Overlay_Toolbar_Top { top: 0.5em; } #NetworKit_Overlay_Toolbar_Bottom { Bottom: 0.5em; } #NetworKit_Overlay_ImageContainer { position: absolute; top: 5%; left: 5%; height: 90%; width: 90%; background-repeat: no-repeat; background-position: center center; background-size: contain; } #NetworKit_Overlay_Image { height: 100%; width: 100%; background-repeat: no-repeat; background-position: center center; background-size: contain; }';\n\t\t\t\telement.setAttribute('id', 'NetworKit_style');\n\t\t\t\tdocument.head.appendChild(element);\n\t\t\t}\n\t\t\n\t\t\t\t\n\t\t\t{\n\t\t\t\tvar element = document.getElementById('NetworKit_Overlay');\n\t\t\t\tif (element) {\n\t\t\t\t\telement.parentNode.removeChild(element);\n\t\t\t\t}\n\t\t\t\telement = document.createElement('div');\n\t\t\t\telement.innerHTML = '<div id=\"NetworKit_Overlay_Toolbar_Top\"><div class=\"button icon-close\" id=\"NetworKit_Overlay_Close\" /></div><div id=\"NetworKit_Overlay_Title\" /> <div id=\"NetworKit_Overlay_ImageContainer\"> <div id=\"NetworKit_Overlay_Image\" /> </div> <div id=\"NetworKit_Overlay_Toolbar_Bottom\"> <div class=\"button icon-previous\" onclick=\"NetworKit_overlayImageShift(-1)\" /> <div class=\"button icon-next\" onclick=\"NetworKit_overlayImageShift(1)\" /> <a id=\"NetworKit_Overlay_Toolbar_Bottom_Save\"><div class=\"button icon-save\" /></a> </div>';\n\t\t\t\telement.setAttribute('id', 'NetworKit_Overlay');\n\t\t\t\tdocument.body.appendChild(element);\n\t\t\t\tdocument.getElementById('NetworKit_Overlay_Close').onclick = function (e) {\n\t\t\t\t\tdocument.getElementById('NetworKit_Overlay').style.display = 'none';\n\t\t\t\t}\n\t\t\t}\n\t\t\n\t\t\t-->\n\t\t\t</script>\n\t\t"
     },
     "metadata": {},
     "output_type": "display_data"
    }
   ],
   "source": [
    "%matplotlib inline\n",
    "\n",
    "import sys; sys.path.insert(0, \"..\")\n",
    "\n",
    "import numpy as np\n",
    "import pandas as pd\n",
    "import networkx as nx\n",
    "import matplotlib.pyplot as plt\n",
    "\n",
    "import collections\n",
    "from math import log\n",
    "\n",
    "# import time\n",
    "import pickle\n",
    "\n",
    "# from random import sample\n",
    "from communityDetection.orcci import *\n",
    "from utils.pobsnet_sinfo import *\n",
    "\n",
    "from sklearn.metrics import normalized_mutual_info_score"
   ],
   "metadata": {
    "collapsed": false,
    "pycharm": {
     "name": "#%%\n"
    }
   }
  },
  {
   "cell_type": "code",
   "execution_count": 2,
   "outputs": [],
   "source": [
    "verbose = \"TRACE\"\n",
    "\n",
    "filename = \"../data/PhIMain/PhIMain.xlsx\"\n",
    "\n",
    "df = pd.read_excel(filename)\n",
    "# df.head()\n",
    "\n",
    "gene1_label = \"IntA\"\n",
    "gene2_label = \"IntB\"\n",
    "g = nx.from_pandas_edgelist(df,source=gene1_label,target=gene2_label)\n",
    "g.name = 'PhIMain'"
   ],
   "metadata": {
    "collapsed": false,
    "pycharm": {
     "name": "#%%\n"
    }
   }
  },
  {
   "cell_type": "code",
   "execution_count": 3,
   "outputs": [
    {
     "name": "stdout",
     "output_type": "stream",
     "text": [
      "Name: PhIMain\n",
      "Type: Graph\n",
      "Number of nodes: 273\n",
      "Number of edges: 529\n",
      "Average degree:   3.8755\n",
      "Number of connected components: 17 \n",
      "\n",
      "<<< Without self loops >>>\n",
      "Name: PhIMain\n",
      "Type: Graph\n",
      "Number of nodes: 273\n",
      "Number of edges: 495\n",
      "Average degree:   3.6264\n",
      "Number of self loops: 34\n",
      "Top 5 highest degree nodes: [('AT1G35560', 43), ('AT1G31880', 26), ('AT2G01760', 22), ('AT4G37260', 19), ('AT4G32570', 17)]\n"
     ]
    }
   ],
   "source": [
    "print(nx.info(g))\n",
    "print(\"Number of connected components:\", nx.number_connected_components(g), \"\\n\")\n",
    "\n",
    "edge_selfloops = [e1 for e1, e2 in nx.selfloop_edges(g)]\n",
    "g.remove_edges_from(nx.selfloop_edges(g))\n",
    "\n",
    "print(\"<<< Without self loops >>>\")\n",
    "print(nx.info(g))\n",
    "print(\"Number of self loops:\", len(edge_selfloops))\n",
    "\n",
    "# degree list\n",
    "degree_list = sorted(g.degree, key=lambda x: x[1], reverse=True)\n",
    "print(\"Top 5 highest degree nodes:\", degree_list[0:5])"
   ],
   "metadata": {
    "collapsed": false,
    "pycharm": {
     "name": "#%%\n"
    }
   }
  },
  {
   "cell_type": "markdown",
   "source": [
    "### Side Information (Global)"
   ],
   "metadata": {
    "collapsed": false,
    "pycharm": {
     "name": "#%% md\n"
    }
   }
  },
  {
   "cell_type": "code",
   "execution_count": 4,
   "outputs": [
    {
     "name": "stdout",
     "output_type": "stream",
     "text": [
      "Amount of SideInfo: 171\n",
      "Number of known pathways: 15\n",
      "Pathways: ['abscisic acid', 'auxin', 'brassinosteroid', 'circadian rhythm', 'cytokinin', 'dna repair', 'dna rna metabolism', 'ethylene', 'fatty acid metabolism', 'gibberellin', 'jasmonic acid', 'plant pathogen interaction', 'protein processing', 'salicylic acid', 'signal transduction']\n"
     ]
    }
   ],
   "source": [
    "filename = \"../data/PhIMain/Phi_Main_ppi_all_sideinfo_KEGG_edit.xlsx\"\n",
    "\n",
    "df_sinfo = pd.read_excel(filename,header=0) # ,index_col=1\n",
    "df_sinfo = df_sinfo[['Label','SideInfo_Label']]\n",
    "df_sinfo = df_sinfo[[isinstance(x,str) for x in df_sinfo['SideInfo_Label']]]  # filter row with valid SideInfo\n",
    "pathway_list = list(set(df_sinfo['SideInfo_Label']))\n",
    "pathway_list.sort()\n",
    "pathway_list.insert(0,'unknown')\n",
    "print(\"Amount of SideInfo: %d\" % len(df_sinfo))\n",
    "print(\"Number of known pathways: %d\" % (len(pathway_list)-1))\n",
    "print(\"Pathways:\", pathway_list[1:])"
   ],
   "metadata": {
    "collapsed": false,
    "pycharm": {
     "name": "#%%\n"
    }
   }
  },
  {
   "cell_type": "code",
   "execution_count": 5,
   "outputs": [],
   "source": [
    "# label nodes with known pathways\n",
    "nx.set_node_attributes(g, 'unknown', \"pathway\")\n",
    "nx.set_node_attributes(g, 0, \"pathwayID\")\n",
    "\n",
    "for idx, row  in df_sinfo.iterrows():\n",
    "    gene = row['Label']\n",
    "    sinfo_label = row['SideInfo_Label']\n",
    "    path_id = pathway_list.index(sinfo_label)\n",
    "    g.nodes[gene]['pathway'] = sinfo_label\n",
    "    g.nodes[gene]['pathwayID'] = path_id"
   ],
   "metadata": {
    "collapsed": false,
    "pycharm": {
     "name": "#%%\n"
    }
   }
  },
  {
   "cell_type": "code",
   "execution_count": 6,
   "outputs": [
    {
     "name": "stdout",
     "output_type": "stream",
     "text": [
      "Side Info Summary:\n",
      "Total side information: 171\n",
      "auxin 40\n",
      "abscisic acid 32\n",
      "brassinosteroid 13\n",
      "gibberellin 14\n",
      "jasmonic acid 14\n",
      "cytokinin 7\n",
      "dna repair 2\n",
      "salicylic acid 18\n",
      "ethylene 24\n",
      "protein processing 2\n",
      "signal transduction 1\n",
      "fatty acid metabolism 1\n",
      "dna rna metabolism 1\n",
      "plant pathogen interaction 1\n",
      "circadian rhythm 1\n"
     ]
    }
   ],
   "source": [
    "# create side information list\n",
    "\n",
    "# check if known nodes belonging to the same community have connection\n",
    "known_partition = dict()  # {0: [], 1: [], 2: []}\n",
    "\n",
    "edges_known = []  # list of all edges known (both existing and artificially created)\n",
    "nodes_known = list(df_sinfo['Label'])\n",
    "for i in nodes_known:\n",
    "    block = g.nodes[i]['pathway']\n",
    "    insert_to_dict_list(known_partition, block, i)\n",
    "    # known_partition[block].append(i)\n",
    "    # print(i, block)\n",
    "\n",
    "print(\"Side Info Summary:\")\n",
    "print(\"Total side information: %d\" % len(nodes_known))\n",
    "for i in known_partition:\n",
    "    print(i, len(known_partition[i]))\n",
    "    \n",
    "edges_known = []"
   ],
   "metadata": {
    "collapsed": false,
    "pycharm": {
     "name": "#%%\n"
    }
   }
  },
  {
   "cell_type": "code",
   "execution_count": 7,
   "outputs": [
    {
     "name": "stdout",
     "output_type": "stream",
     "text": [
      "Known edges:\n",
      "Number of known edges: 96\n"
     ]
    }
   ],
   "source": [
    "for pathway_type in known_partition:\n",
    "    pathway_gene_list = known_partition[pathway_type]\n",
    "    for idx1, gene1 in enumerate(pathway_gene_list):\n",
    "        for idx2, gene2 in enumerate(pathway_gene_list[idx1+1:]):\n",
    "                \n",
    "            # Trial # 2: Soft force of weight to maximum (and ORC)\n",
    "            if g.has_edge(gene1,gene2):\n",
    "                edges_known.append((gene1, gene2))\n",
    "                # g.edges[(gene1, gene2)][''] = 1.0  # unweighted\n",
    "        \n",
    "print(\"Known edges:\")\n",
    "# print(edges_known)\n",
    "print(\"Number of known edges:\", len(edges_known))"
   ],
   "metadata": {
    "collapsed": false,
    "pycharm": {
     "name": "#%%\n"
    }
   }
  },
  {
   "cell_type": "code",
   "execution_count": 8,
   "outputs": [
    {
     "name": "stdout",
     "output_type": "stream",
     "text": [
      "Name: PhIMain\n",
      "Type: Graph\n",
      "Number of nodes: 273\n",
      "Number of edges: 495\n",
      "Average degree:   3.6264\n",
      "0 AT1G01030 {'pathway': 'auxin', 'pathwayID': 2}\n",
      "1 AT3G17600 {'pathway': 'auxin', 'pathwayID': 2}\n",
      "2 AT1G01140 {'pathway': 'unknown', 'pathwayID': 0}\n",
      "3 AT2G23290 {'pathway': 'unknown', 'pathwayID': 0}\n",
      "4 AT1G01360 {'pathway': 'abscisic acid', 'pathwayID': 1}\n",
      "5 AT4G26080 {'pathway': 'unknown', 'pathwayID': 0}\n",
      "0 ('AT1G01030', 'AT3G17600') {}\n",
      "1 ('AT3G17600', 'AT2G01760') {}\n",
      "2 ('AT3G17600', 'AT2G28350') {}\n",
      "3 ('AT3G17600', 'AT2G38490') {}\n",
      "4 ('AT3G17600', 'AT3G15540') {}\n",
      "5 ('AT3G17600', 'AT4G30080') {}\n"
     ]
    }
   ],
   "source": [
    "print(nx.info(g))\n",
    "\n",
    "for idx, node in enumerate(g.nodes()):\n",
    "    print(idx, node, g.nodes[node])\n",
    "    if idx == 5:\n",
    "        break\n",
    "    \n",
    "for idx, edge in enumerate(g.edges()):\n",
    "    print(idx, edge, g.edges[edge])\n",
    "    if idx == 5:\n",
    "        break"
   ],
   "metadata": {
    "collapsed": false,
    "pycharm": {
     "name": "#%%\n"
    }
   }
  },
  {
   "cell_type": "code",
   "execution_count": 9,
   "outputs": [],
   "source": [
    "# ORCCI for NO side info and complete observation\n",
    "\n",
    "# g_orc_all, partitions_list = orcci(g, verbose=\"INFO\")\n",
    "\n",
    "# filename_orc = \"../results/PhI_files/PhI_Main/PhiMain_orc_all.gml\"\n",
    "# nx.write_gml(g_orc_all.G,filename_orc,stringizer=str)"
   ],
   "metadata": {
    "collapsed": false,
    "pycharm": {
     "name": "#%%\n"
    }
   }
  },
  {
   "cell_type": "markdown",
   "source": [
    "### Community Detection"
   ],
   "metadata": {
    "collapsed": false,
    "pycharm": {
     "name": "#%% md\n"
    }
   }
  },
  {
   "cell_type": "code",
   "execution_count": 10,
   "outputs": [
    {
     "name": "stdout",
     "output_type": "stream",
     "text": [
      "Using number of cpu threads: = 16\n",
      "\n",
      "\n",
      "FINAL RESULT\n",
      "========================================================\n",
      "Elapsed time: 32.1517 (s)\n",
      "Number of iterations: 244\n",
      "Number of communities detected: 75\n",
      "Size of largest community: 16\n",
      "List of component sizes (final): [3 9 9 16 5 2 7 4 6 3 3 4 4 4 7 6 8 3 2 6 1 6 7 3 5 7 4 3 3 4 4 3 2 2 2 2 1 1 5 3 2 8 2 2 3 3 3 9 3 3 6 3 2 2 2 1 2 2 2 2 2 2 3 3 2 2 1 2 2 2 3 2 2 2 2]\n",
      "MAXIMUM MODULARITY PARTITION RESULT\n",
      "========================================================\n",
      "Modularity: 0.5910\n",
      "Number of communities detected: 31\n",
      "List of component sizes (max mod): [35 44 19 16 42 26 16 8 1 6 5 12 3 1 1 9 2 2 2 1 2 2 2 3 2 1 2 2 2 2 2]\n",
      "\n",
      "../results/PhI_files/PhIMain/PhIMain.gml\n"
     ]
    }
   ],
   "source": [
    "# ORCCI for no side info and complete observation\n",
    "orc_main, partitions_list = orcci(g, block_label=\"blockRicci\", verbose=\"ERROR\") # \"INFO\"\n",
    "\n",
    "# output .gml filename creation\n",
    "f_out = \"../results/PhI_files/PhIMain/PhIMain.gml\"\n",
    "\n",
    "print(f_out)\n",
    "nx.write_gml(orc_main.G,f_out,stringizer=str)"
   ],
   "metadata": {
    "collapsed": false,
    "pycharm": {
     "name": "#%%\n"
    }
   }
  },
  {
   "cell_type": "code",
   "execution_count": 11,
   "outputs": [
    {
     "name": "stdout",
     "output_type": "stream",
     "text": [
      "Name: PhIMain\n",
      "Type: Graph\n",
      "Number of nodes: 273\n",
      "Number of edges: 495\n",
      "Average degree:   3.6264\n",
      "0 AT1G01030 {'pathway': 'auxin', 'pathwayID': 2, 'known': 0, 'blockRicciMaxMod': 0, 'blockRicciFinal': 0}\n",
      "1 AT3G17600 {'pathway': 'auxin', 'pathwayID': 2, 'known': 0, 'blockRicciMaxMod': 0, 'blockRicciFinal': 0}\n",
      "2 AT1G01140 {'pathway': 'unknown', 'pathwayID': 0, 'known': 0, 'blockRicciMaxMod': 1, 'blockRicciFinal': 1}\n",
      "3 AT2G23290 {'pathway': 'unknown', 'pathwayID': 0, 'known': 0, 'blockRicciMaxMod': 1, 'blockRicciFinal': 1}\n",
      "4 AT1G01360 {'pathway': 'abscisic acid', 'pathwayID': 1, 'known': 0, 'blockRicciMaxMod': 2, 'blockRicciFinal': 2}\n",
      "5 AT4G26080 {'pathway': 'unknown', 'pathwayID': 0, 'known': 0, 'blockRicciMaxMod': 2, 'blockRicciFinal': 2}\n"
     ]
    }
   ],
   "source": [
    "g_orc = orc_main.G\n",
    "\n",
    "print(nx.info(g_orc))\n",
    "\n",
    "for idx, node in enumerate(g_orc.nodes()):\n",
    "    print(idx, node, g_orc.nodes[node])\n",
    "    if idx == 5:\n",
    "        break"
   ],
   "metadata": {
    "collapsed": false,
    "pycharm": {
     "name": "#%%\n"
    }
   }
  },
  {
   "cell_type": "markdown",
   "source": [
    "#### Side Information"
   ],
   "metadata": {
    "collapsed": false,
    "pycharm": {
     "name": "#%% md\n"
    }
   }
  },
  {
   "cell_type": "code",
   "execution_count": 12,
   "outputs": [],
   "source": [
    "g_orc = orc_main.G\n",
    "\n",
    "nodes_known = []\n",
    "\n",
    "for node in g_orc:\n",
    "    if g_orc.nodes[node]['pathway'] != 'unknown':\n",
    "        nodes_known.append(node)\n",
    "#     print(node, g_orc.nodes[node]['pathway'])\n",
    "# nodes_known"
   ],
   "metadata": {
    "collapsed": false,
    "pycharm": {
     "name": "#%%\n"
    }
   }
  },
  {
   "cell_type": "code",
   "execution_count": 13,
   "outputs": [
    {
     "name": "stdout",
     "output_type": "stream",
     "text": [
      "../results/PhI_files/PhIMain/PhIMain.gml\n",
      "Using number of cpu threads: = 16\n",
      "\n",
      "\n",
      "FINAL RESULT\n",
      "========================================================\n",
      "Elapsed time: 21.3278 (s)\n",
      "Number of iterations: 157\n",
      "Number of communities detected: 76\n",
      "Size of largest community: 25\n",
      "List of component sizes (final): [25 10 19 1 1 10 5 15 3 4 4 4 5 10 2 6 2 1 5 5 3 5 8 10 1 6 2 6 2 2 11 1 1 1 1 1 4 4 2 7 6 3 2 2 2 2 1 1 2 2 2 1 1 1 3 1 1 1 1 1 1 1 1 2 2 1 1 1 1 2 1 2 2 1 1 2]\n",
      "MAXIMUM MODULARITY PARTITION RESULT\n",
      "========================================================\n",
      "Modularity: 0.5249\n",
      "Number of communities detected: 61\n",
      "List of component sizes (max mod): [41 10 19 1 1 27 15 13 30 4 5 2 2 1 5 5 1 6 6 2 11 1 1 1 1 1 7 6 3 2 2 2 1 1 2 2 2 1 1 1 3 1 1 1 1 1 1 1 1 2 2 1 1 1 1 2 1 2 2 1 1]\n",
      "\n"
     ]
    }
   ],
   "source": [
    "f_in = \"../results/PhI_files/PhIMain/PhIMain.gml\"\n",
    "print(f_in)\n",
    "\n",
    "orc_sinfo, partitions_list = orcci(g_orc, nodes_known=nodes_known, block_label=\"blockRicciSinfo\", sinfo_label=\"pathwayID\", verbose=\"ERROR\")"
   ],
   "metadata": {
    "collapsed": false,
    "pycharm": {
     "name": "#%%\n"
    }
   }
  },
  {
   "cell_type": "code",
   "execution_count": 14,
   "outputs": [
    {
     "name": "stdout",
     "output_type": "stream",
     "text": [
      "Name: PhIMain\n",
      "Type: Graph\n",
      "Number of nodes: 273\n",
      "Number of edges: 495\n",
      "Average degree:   3.6264\n",
      "0 AT1G01030 {'pathway': 'auxin', 'pathwayID': 2, 'known': 1, 'blockRicciMaxMod': 0, 'blockRicciFinal': 0, 'blockRicciSinfoMaxMod': 0, 'blockRicciSinfoFinal': 0}\n",
      "1 AT3G17600 {'pathway': 'auxin', 'pathwayID': 2, 'known': 1, 'blockRicciMaxMod': 0, 'blockRicciFinal': 0, 'blockRicciSinfoMaxMod': 0, 'blockRicciSinfoFinal': 0}\n",
      "2 AT1G01140 {'pathway': 'unknown', 'pathwayID': 0, 'known': 0, 'blockRicciMaxMod': 1, 'blockRicciFinal': 1, 'blockRicciSinfoMaxMod': 1, 'blockRicciSinfoFinal': 1}\n",
      "3 AT2G23290 {'pathway': 'unknown', 'pathwayID': 0, 'known': 0, 'blockRicciMaxMod': 1, 'blockRicciFinal': 1, 'blockRicciSinfoMaxMod': 1, 'blockRicciSinfoFinal': 1}\n",
      "4 AT1G01360 {'pathway': 'abscisic acid', 'pathwayID': 1, 'known': 1, 'blockRicciMaxMod': 2, 'blockRicciFinal': 2, 'blockRicciSinfoMaxMod': 2, 'blockRicciSinfoFinal': 2}\n",
      "5 AT4G26080 {'pathway': 'unknown', 'pathwayID': 0, 'known': 0, 'blockRicciMaxMod': 2, 'blockRicciFinal': 2, 'blockRicciSinfoMaxMod': 2, 'blockRicciSinfoFinal': 2}\n"
     ]
    }
   ],
   "source": [
    "g_orc = orc_sinfo.G\n",
    "\n",
    "print(nx.info(g_orc))\n",
    "\n",
    "for idx, node in enumerate(g_orc.nodes()):\n",
    "    print(idx, node, g_orc.nodes[node])\n",
    "    if idx == 5:\n",
    "        break"
   ],
   "metadata": {
    "collapsed": false,
    "pycharm": {
     "name": "#%%\n"
    }
   }
  },
  {
   "cell_type": "code",
   "execution_count": 15,
   "outputs": [
    {
     "name": "stdout",
     "output_type": "stream",
     "text": [
      "../results/PhI_files/PhIMain/PhIMain_sinfo.gml\n"
     ]
    }
   ],
   "source": [
    "# output .gml filename creation\n",
    "f_out = \"../results/PhI_files/PhIMain/PhIMain_sinfo.gml\"\n",
    "\n",
    "print(f_out)\n",
    "nx.write_gml(orc_sinfo.G,f_out,stringizer=str)"
   ],
   "metadata": {
    "collapsed": false,
    "pycharm": {
     "name": "#%%\n"
    }
   }
  }
 ],
 "metadata": {
  "kernelspec": {
   "display_name": "Python 3",
   "language": "python",
   "name": "python3"
  },
  "language_info": {
   "codemirror_mode": {
    "name": "ipython",
    "version": 3
   },
   "file_extension": ".py",
   "mimetype": "text/x-python",
   "name": "python",
   "nbconvert_exporter": "python",
   "pygments_lexer": "ipython3",
   "version": "3.7.3"
  }
 },
 "nbformat": 4,
 "nbformat_minor": 4
}